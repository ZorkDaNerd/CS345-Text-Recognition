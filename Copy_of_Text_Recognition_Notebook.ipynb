{
  "cells": [
    {
      "cell_type": "markdown",
      "metadata": {
        "id": "view-in-github",
        "colab_type": "text"
      },
      "source": [
        "<a href=\"https://colab.research.google.com/github/ZorkDaNerd/CS345-Text-Recognition/blob/main/Copy_of_Text_Recognition_Notebook.ipynb\" target=\"_parent\"><img src=\"https://colab.research.google.com/assets/colab-badge.svg\" alt=\"Open In Colab\"/></a>"
      ]
    },
    {
      "cell_type": "markdown",
      "metadata": {
        "id": "varJNv0ukj69"
      },
      "source": [
        "*This notebook is part of our text recognition project for class CS345 at Colorado State University.\n",
        "Original versions were created by Zachary Shimpa, Jenelle Dobyns and Jordan Rust.\n",
        "The content is availabe [on GitHub](github.com/ZorkDaNerd/CS345-Text-Recognition).*\n",
        "\n",
        "*Code help and referance was provided from Prof. Asa Ben-Hur and CS 345: Machine Learning Foundations and Practice at Colorado State University.\n",
        "Original versions of these notebooks were created by Asa Ben-Hur with updates by Ross Beveridge.\n",
        "The content is availabe [on his GitHub](https://github.com/asabenhur/CS345).*"
      ]
    },
    {
      "cell_type": "markdown",
      "metadata": {
        "id": "view-in-github"
      },
      "source": [
        "<a href=\"https://colab.research.google.com/github/ZorkDaNerd/CS345-Text-Recognition/blob/main/Text_Recognition_Notebook.ipynb\" target=\"_parent\"><img src=\"https://colab.research.google.com/assets/colab-badge.svg\" alt=\"Open In Colab\"/></a>"
      ]
    },
    {
      "cell_type": "markdown",
      "metadata": {
        "id": "tuFviogMkj7C"
      },
      "source": [
        "Possible data sets\n",
        "\n",
        "https://www.kaggle.com/datasets/lakshmi25npathi/imdb-dataset-of-50k-movie-reviews\n",
        "Dataset from this\n",
        "\n",
        "https://stackoverflow.com/questions/41908379/keras-plot-training-validation-and-test-set-accuracy#:~:text=Just%20a%20small%20addition%3A%20In%20updated%20Keras%20and,to%20plt.plot%20%28history.history%20%5B%27accuracy%27%5D%29%20plt.plot%20%28history.history%20%5B%27val_accuracy%27%5D%29%20%28N.B.\n",
        "\n",
        "https://medium.com/mlearning-ai/sentiment-analysis-using-lstm-21767a130857\n",
        "\n",
        "https://en.wikipedia.org/wiki/Sentiment_analysis\n",
        "\n",
        "https://valueml.com/sentiment-analysis-using-keras\n",
        "\n",
        "https://towardsdatascience.com/sentiment-analysis-on-amazon-reviews-45cd169447ac\n",
        "\n",
        "https://paperswithcode.com/dataset/imdb-movie-reviews\n",
        "\n",
        "https://www.kaggle.com/code/shubhamptrivedi/sentiment-analysis-on-imdb-movie-reviews\n",
        "\n",
        "https://www.kaggle.com/code/sohamdas27/imdb-movie-review-eda-sentiment-analysis\n",
        "\n",
        "https://www.kaggle.com/code/zhangwei20220818/imbd-sentiment-analysis-using-pytorch-lstm\n",
        "\n",
        "https://www.kaggle.com/code/vincentman0403/sentimental-analysis-on-imdb-by-lstm\n",
        "\n",
        "https://www.kaggle.com/code/drscarlat/imdb-sentiment-analysis-keras-and-tensorflow/notebook"
      ]
    },
    {
      "cell_type": "markdown",
      "metadata": {
        "id": "e9_HZZBhkj7C"
      },
      "source": [
        "# Description of Project"
      ]
    },
    {
      "cell_type": "markdown",
      "source": [
        "This project is about comparing sentiment analysis accuracy between LSTM, SVM, logistic regression, and random forest classification models. This is a form of natural language processing.\n",
        "\n",
        "We will be using an IMDB review dataset with 50,000 reviews and classification as either 'positive' or 'negative'.\n"
      ],
      "metadata": {
        "id": "IlNExAU1o_xm"
      }
    },
    {
      "cell_type": "markdown",
      "metadata": {
        "id": "R_bAk2fPkj7D"
      },
      "source": [
        "### Coding languages and packages used in project\n",
        "\n",
        "Language: Python\n",
        "\n",
        "ML libraries: Tensorflow, Keras"
      ]
    },
    {
      "cell_type": "markdown",
      "source": [
        "Imports"
      ],
      "metadata": {
        "id": "hp7JaaH6vmsI"
      }
    },
    {
      "cell_type": "code",
      "execution_count": null,
      "metadata": {
        "id": "5KiYYTwEkj7E"
      },
      "outputs": [],
      "source": [
        "import pandas as pd\n",
        "import numpy as np\n",
        "from matplotlib import pyplot as plt\n",
        "from sklearn.model_selection import train_test_split\n",
        "import os\n",
        "from glob import glob\n",
        "import tensorflow as tf\n",
        "from tensorflow import keras\n",
        "from keras.datasets import imdb\n",
        "from wordcloud import WordCloud,STOPWORDS\n",
        "import string\n",
        "import re"
      ]
    },
    {
      "cell_type": "markdown",
      "source": [
        "Let's import our data"
      ],
      "metadata": {
        "id": "Cl4wxGeZvhPR"
      }
    },
    {
      "cell_type": "code",
      "source": [
        "imdb_data=pd.read_csv(\"https://github.com/ZorkDaNerd/CS345-Text-Recognition/raw/main/Datasets/IMDB%20Dataset/IMDB%20Dataset.csv\")\n",
        "\n",
        "# Let's see what our data looks like\n",
        "print(imdb_data.head(10))\n",
        "\n",
        "# Sentiment count - We can see that our data is perfectly balanced\n",
        "print(imdb_data['sentiment'].value_counts())"
      ],
      "metadata": {
        "colab": {
          "base_uri": "https://localhost:8080/"
        },
        "id": "PNvoDKw3p7rA",
        "outputId": "9e0ec0c4-5d5b-4c51-8277-8607a5de4278"
      },
      "execution_count": null,
      "outputs": [
        {
          "output_type": "stream",
          "name": "stdout",
          "text": [
            "                                              review sentiment\n",
            "0  One of the other reviewers has mentioned that ...  positive\n",
            "1  A wonderful little production. <br /><br />The...  positive\n",
            "2  I thought this was a wonderful way to spend ti...  positive\n",
            "3  Basically there's a family where a little boy ...  negative\n",
            "4  Petter Mattei's \"Love in the Time of Money\" is...  positive\n",
            "5  Probably my all-time favorite movie, a story o...  positive\n",
            "6  I sure would like to see a resurrection of a u...  positive\n",
            "7  This show was an amazing, fresh & innovative i...  negative\n",
            "8  Encouraged by the positive comments about this...  negative\n",
            "9  If you like original gut wrenching laughter yo...  positive\n",
            "positive    25000\n",
            "negative    25000\n",
            "Name: sentiment, dtype: int64\n"
          ]
        }
      ]
    },
    {
      "cell_type": "markdown",
      "source": [
        "Time to clean up our data a bit! We can see we have lots of punctuation and characters as well as HTML tags. Let's do some housekeeping."
      ],
      "metadata": {
        "id": "tGPQcebKvbg7"
      }
    },
    {
      "cell_type": "code",
      "source": [
        "# Importing \n",
        "import nltk\n",
        "from nltk.corpus import stopwords\n",
        "from nltk.stem.porter import PorterStemmer\n",
        "from nltk.tokenize.toktok import ToktokTokenizer\n",
        "\n",
        " # Removing html tags - this can't be done in numpy as we need to remove what's between the tags as well\n",
        "imdb_data.review=imdb_data.review.str.replace('<[^<]+?>','')\n",
        "\n",
        "# Our stopwords are words that don't contribute to word sentiment ('and','or', etc.). Set stopwords to english:\n",
        "stop = set(stopwords.words('english'))\n",
        "\n",
        "# Removing the stopwords from our array\n",
        "tokenizer=ToktokTokenizer()\n",
        "\n",
        "def remove_stopwords(text, is_lower_case=False):\n",
        "    #Tokenizing separates all of our words into their own bucket\n",
        "    tokens = tokenizer.tokenize(text)\n",
        "    tokens = [token.strip() for token in tokens] \n",
        "\n",
        "    if is_lower_case:\n",
        "        filtered_tokens = [token for token in tokens if token not in stop]\n",
        "    else:\n",
        "        filtered_tokens = [token for token in tokens if token.lower() not in stop]\n",
        "    filtered_text = ' '.join(filtered_tokens)    \n",
        "    return filtered_text\n",
        "    \n",
        "#Apply remove_stopwords on review column\n",
        "imdb_data['review'] = imdb_data['review'].apply(remove_stopwords).str.lower()\n",
        "\n",
        "# Our stemming function will return us just the root of our words - i.g. 'stayed' and 'staying' both become 'stay'\n",
        "ps = PorterStemmer()\n",
        "def stem(text):\n",
        "    L=[]\n",
        "    for i in text.split():\n",
        "        L.append(ps.stem(i))\n",
        "        \n",
        "        \n",
        "    string=\" \".join(L)    \n",
        "    return string\n",
        "\n",
        "\n",
        "imdb_data['review'] = imdb_data['review'].apply(stem)\n",
        "\n",
        "# Let's see what we have!\n",
        "imdb_data.head()"
      ],
      "metadata": {
        "colab": {
          "base_uri": "https://localhost:8080/",
          "height": 261
        },
        "id": "Y8FpbiFf5skY",
        "outputId": "f42c5a86-1cb4-4f52-f016-5237b75c7856"
      },
      "execution_count": null,
      "outputs": [
        {
          "output_type": "stream",
          "name": "stderr",
          "text": [
            "<ipython-input-350-8a57551bf46f>:8: FutureWarning: The default value of regex will change from True to False in a future version.\n",
            "  imdb_data.review=imdb_data.review.str.replace('<[^<]+?>','')\n"
          ]
        },
        {
          "output_type": "execute_result",
          "data": {
            "text/plain": [
              "                                              review sentiment\n",
              "0  one review mention watch 1 oz episod ' hooked....  positive\n",
              "1  wonder littl production. film techniqu unassum...  positive\n",
              "2  thought wonder way spend time hot summer weeke...  positive\n",
              "3  basic ' famili littl boy ( jake ) think ' zomb...  negative\n",
              "4  petter mattei ' \" love time money \" visual stu...  positive"
            ],
            "text/html": [
              "\n",
              "  <div id=\"df-7ee8e0a5-b85d-4e68-9488-af13c9152c8a\">\n",
              "    <div class=\"colab-df-container\">\n",
              "      <div>\n",
              "<style scoped>\n",
              "    .dataframe tbody tr th:only-of-type {\n",
              "        vertical-align: middle;\n",
              "    }\n",
              "\n",
              "    .dataframe tbody tr th {\n",
              "        vertical-align: top;\n",
              "    }\n",
              "\n",
              "    .dataframe thead th {\n",
              "        text-align: right;\n",
              "    }\n",
              "</style>\n",
              "<table border=\"1\" class=\"dataframe\">\n",
              "  <thead>\n",
              "    <tr style=\"text-align: right;\">\n",
              "      <th></th>\n",
              "      <th>review</th>\n",
              "      <th>sentiment</th>\n",
              "    </tr>\n",
              "  </thead>\n",
              "  <tbody>\n",
              "    <tr>\n",
              "      <th>0</th>\n",
              "      <td>one review mention watch 1 oz episod ' hooked....</td>\n",
              "      <td>positive</td>\n",
              "    </tr>\n",
              "    <tr>\n",
              "      <th>1</th>\n",
              "      <td>wonder littl production. film techniqu unassum...</td>\n",
              "      <td>positive</td>\n",
              "    </tr>\n",
              "    <tr>\n",
              "      <th>2</th>\n",
              "      <td>thought wonder way spend time hot summer weeke...</td>\n",
              "      <td>positive</td>\n",
              "    </tr>\n",
              "    <tr>\n",
              "      <th>3</th>\n",
              "      <td>basic ' famili littl boy ( jake ) think ' zomb...</td>\n",
              "      <td>negative</td>\n",
              "    </tr>\n",
              "    <tr>\n",
              "      <th>4</th>\n",
              "      <td>petter mattei ' \" love time money \" visual stu...</td>\n",
              "      <td>positive</td>\n",
              "    </tr>\n",
              "  </tbody>\n",
              "</table>\n",
              "</div>\n",
              "      <button class=\"colab-df-convert\" onclick=\"convertToInteractive('df-7ee8e0a5-b85d-4e68-9488-af13c9152c8a')\"\n",
              "              title=\"Convert this dataframe to an interactive table.\"\n",
              "              style=\"display:none;\">\n",
              "        \n",
              "  <svg xmlns=\"http://www.w3.org/2000/svg\" height=\"24px\"viewBox=\"0 0 24 24\"\n",
              "       width=\"24px\">\n",
              "    <path d=\"M0 0h24v24H0V0z\" fill=\"none\"/>\n",
              "    <path d=\"M18.56 5.44l.94 2.06.94-2.06 2.06-.94-2.06-.94-.94-2.06-.94 2.06-2.06.94zm-11 1L8.5 8.5l.94-2.06 2.06-.94-2.06-.94L8.5 2.5l-.94 2.06-2.06.94zm10 10l.94 2.06.94-2.06 2.06-.94-2.06-.94-.94-2.06-.94 2.06-2.06.94z\"/><path d=\"M17.41 7.96l-1.37-1.37c-.4-.4-.92-.59-1.43-.59-.52 0-1.04.2-1.43.59L10.3 9.45l-7.72 7.72c-.78.78-.78 2.05 0 2.83L4 21.41c.39.39.9.59 1.41.59.51 0 1.02-.2 1.41-.59l7.78-7.78 2.81-2.81c.8-.78.8-2.07 0-2.86zM5.41 20L4 18.59l7.72-7.72 1.47 1.35L5.41 20z\"/>\n",
              "  </svg>\n",
              "      </button>\n",
              "      \n",
              "  <style>\n",
              "    .colab-df-container {\n",
              "      display:flex;\n",
              "      flex-wrap:wrap;\n",
              "      gap: 12px;\n",
              "    }\n",
              "\n",
              "    .colab-df-convert {\n",
              "      background-color: #E8F0FE;\n",
              "      border: none;\n",
              "      border-radius: 50%;\n",
              "      cursor: pointer;\n",
              "      display: none;\n",
              "      fill: #1967D2;\n",
              "      height: 32px;\n",
              "      padding: 0 0 0 0;\n",
              "      width: 32px;\n",
              "    }\n",
              "\n",
              "    .colab-df-convert:hover {\n",
              "      background-color: #E2EBFA;\n",
              "      box-shadow: 0px 1px 2px rgba(60, 64, 67, 0.3), 0px 1px 3px 1px rgba(60, 64, 67, 0.15);\n",
              "      fill: #174EA6;\n",
              "    }\n",
              "\n",
              "    [theme=dark] .colab-df-convert {\n",
              "      background-color: #3B4455;\n",
              "      fill: #D2E3FC;\n",
              "    }\n",
              "\n",
              "    [theme=dark] .colab-df-convert:hover {\n",
              "      background-color: #434B5C;\n",
              "      box-shadow: 0px 1px 3px 1px rgba(0, 0, 0, 0.15);\n",
              "      filter: drop-shadow(0px 1px 2px rgba(0, 0, 0, 0.3));\n",
              "      fill: #FFFFFF;\n",
              "    }\n",
              "  </style>\n",
              "\n",
              "      <script>\n",
              "        const buttonEl =\n",
              "          document.querySelector('#df-7ee8e0a5-b85d-4e68-9488-af13c9152c8a button.colab-df-convert');\n",
              "        buttonEl.style.display =\n",
              "          google.colab.kernel.accessAllowed ? 'block' : 'none';\n",
              "\n",
              "        async function convertToInteractive(key) {\n",
              "          const element = document.querySelector('#df-7ee8e0a5-b85d-4e68-9488-af13c9152c8a');\n",
              "          const dataTable =\n",
              "            await google.colab.kernel.invokeFunction('convertToInteractive',\n",
              "                                                     [key], {});\n",
              "          if (!dataTable) return;\n",
              "\n",
              "          const docLinkHtml = 'Like what you see? Visit the ' +\n",
              "            '<a target=\"_blank\" href=https://colab.research.google.com/notebooks/data_table.ipynb>data table notebook</a>'\n",
              "            + ' to learn more about interactive tables.';\n",
              "          element.innerHTML = '';\n",
              "          dataTable['output_type'] = 'display_data';\n",
              "          await google.colab.output.renderOutput(dataTable, element);\n",
              "          const docLink = document.createElement('div');\n",
              "          docLink.innerHTML = docLinkHtml;\n",
              "          element.appendChild(docLink);\n",
              "        }\n",
              "      </script>\n",
              "    </div>\n",
              "  </div>\n",
              "  "
            ]
          },
          "metadata": {},
          "execution_count": 350
        }
      ]
    },
    {
      "cell_type": "markdown",
      "source": [
        "Let's convert our data to a numpy array for faster data preprocessing and cleaning"
      ],
      "metadata": {
        "id": "oaFZVEfAzJm8"
      }
    },
    {
      "cell_type": "code",
      "source": [
        "imdb_data = np.array(imdb_data)\n",
        "\n",
        "#50,000 rows, 2 columns\n",
        "imdb_data.shape\n",
        "\n",
        "#Access our reviews column\n",
        "imdb_data[:,0]\n",
        "\n",
        "#Access our sentiment column\n",
        "imdb_data[:,1]"
      ],
      "metadata": {
        "id": "p7yRXePZ52sx",
        "colab": {
          "base_uri": "https://localhost:8080/"
        },
        "outputId": "1313af59-bbb7-4127-e2f9-b66593cc60d8"
      },
      "execution_count": null,
      "outputs": [
        {
          "output_type": "execute_result",
          "data": {
            "text/plain": [
              "array(['positive', 'positive', 'positive', ..., 'negative', 'negative',\n",
              "       'negative'], dtype=object)"
            ]
          },
          "metadata": {},
          "execution_count": 351
        }
      ]
    },
    {
      "cell_type": "markdown",
      "source": [
        "Let's use numpy to remove unneeded punctuation from our dataset that don't contribute to the overall sentiment of our reviews"
      ],
      "metadata": {
        "id": "rlMh593avSmh"
      }
    },
    {
      "cell_type": "code",
      "source": [
        "def remove_punctuation(text):\n",
        "    stripPunct = str.maketrans('', '', string.punctuation)\n",
        "    return np.array([i.translate(stripPunct) for i in text])\n",
        "\n",
        "def sentiment_to_bool(text):\n",
        "    text[text == 'positive'] = 1\n",
        "    text[text == 'negative'] = 0\n",
        "    return text\n",
        "\n",
        "#Apply functions on review column\n",
        "imdb_data[:,0] = remove_punctuation(imdb_data[:,0])\n",
        "imdb_data[:,1] = sentiment_to_bool(imdb_data[:,1])"
      ],
      "metadata": {
        "id": "TbjwDZWGq7XL"
      },
      "execution_count": null,
      "outputs": []
    },
    {
      "cell_type": "markdown",
      "source": [
        "Define X and y"
      ],
      "metadata": {
        "id": "k-TW_zPku4VD"
      }
    },
    {
      "cell_type": "code",
      "source": [
        "X = imdb_data[:,0]\n",
        "\n",
        "imdb_data[:,1] = imdb_data[:,1].astype(str).astype(int) # We want our y values to be ints\n",
        "\n",
        "y = imdb_data[:,1]"
      ],
      "metadata": {
        "id": "bwM5E1iY9EHk"
      },
      "execution_count": null,
      "outputs": []
    },
    {
      "cell_type": "markdown",
      "source": [
        "Now that our data is cleaned up, let's make a train/test split 80/20"
      ],
      "metadata": {
        "id": "O1O8afKmu9Sn"
      }
    },
    {
      "cell_type": "code",
      "source": [
        "X_train, X_test, y_train, y_test = train_test_split(X, y, test_size=0.20, random_state=5)"
      ],
      "metadata": {
        "id": "qpxqbsTXu-aR"
      },
      "execution_count": null,
      "outputs": []
    },
    {
      "cell_type": "markdown",
      "source": [
        "We convert the words into numbers for the LSTM to process. This is done by first tokenizing each words as numbers (with a maximum of 5000 words), then using text_to_word_sequence  on both our train and test sets."
      ],
      "metadata": {
        "id": "BJkJ0pUQvDif"
      }
    },
    {
      "cell_type": "code",
      "source": [
        "print(X_train[0]) # Data before conversion\n",
        "\n",
        "from keras.preprocessing.text import Tokenizer    \n",
        "from keras.preprocessing.text import text_to_word_sequence \n",
        "tokenizer = Tokenizer(num_words=5000)\n",
        "tokenizer.fit_on_texts(X_train)\n",
        "X_train_vector = tokenizer.texts_to_sequences(X_train)\n",
        "X_test_vector = tokenizer.texts_to_sequences(X_test)\n",
        "\n",
        "print(X_train_vector[0]) # Data after conversion"
      ],
      "metadata": {
        "id": "u9ZspcGpogkG",
        "colab": {
          "base_uri": "https://localhost:8080/"
        },
        "outputId": "39088688-c011-4681-8183-9426b848343d"
      },
      "execution_count": null,
      "outputs": [
        {
          "output_type": "stream",
          "name": "stdout",
          "text": [
            "excel reason edison went straight video  would land theater crumbl thud movi last entir long peril boring notch lowbrow  thank freeman spacey  obvious spare two week next film   bad guy laughabl action near nonexist justin timberlak  acting hate knock guy  sooner realiz pop fort  betterth movi  bad  mostly like fact cool j given appear shot lead man deserv it  unlik fellow musician costar  act kevin spacey almost alway enjoy well  see gulp sever time chew sceneri   freeman abil elev flick three star  ten   good  when said done  ultim error movi mundan tiresom piec pseudoact poppycock fail keep anyon awake also fail make anyon give good crap characters   plain boring said  rent suffer insomnia \n",
            "[240, 138, 337, 706, 299, 13, 843, 545, 2, 132, 252, 116, 1534, 2863, 477, 2838, 3995, 430, 2475, 41, 835, 301, 1, 22, 72, 1256, 113, 684, 3023, 2907, 1148, 420, 1750, 72, 4529, 421, 1014, 4859, 2, 22, 4, 95, 497, 2297, 281, 184, 151, 173, 57, 460, 60, 630, 1346, 2680, 2489, 32, 1504, 3995, 136, 127, 77, 17, 9, 310, 6, 3548, 1269, 2838, 1009, 2621, 335, 200, 88, 646, 5, 215, 143, 758, 2580, 2, 4014, 4579, 277, 383, 179, 175, 26, 383, 7, 175, 55, 5, 535, 799, 890, 1534, 215, 419, 745]\n"
          ]
        }
      ]
    },
    {
      "cell_type": "markdown",
      "source": [
        "Now we're going to normalize our data by making each review have the same number of elements (50). We'll be truncating reviews that have over 50 elements and pading reviews with under 50 elements."
      ],
      "metadata": {
        "id": "DKSpQgFLvM9c"
      }
    },
    {
      "cell_type": "code",
      "source": [
        "from keras.utils import pad_sequences\n",
        "lenRev = 50\n",
        "X_train_vector = pad_sequences(X_train_vector, padding='post', maxlen=lenRev)\n",
        "X_test_vector = pad_sequences(X_test_vector, padding='post', maxlen=lenRev)\n",
        "\n",
        "print(X_train_vector[0]) # Let's verify that a review over 50 words gets truncated to 50\n",
        "print(X_train_vector[4]) # Let's verify that a review under 50 words gets padding added at the end"
      ],
      "metadata": {
        "id": "mpqfhHmBoSC8",
        "colab": {
          "base_uri": "https://localhost:8080/"
        },
        "outputId": "ea5d660c-1316-4691-81a7-e3695c44de94"
      },
      "execution_count": null,
      "outputs": [
        {
          "output_type": "stream",
          "name": "stdout",
          "text": [
            "[ 460   60  630 1346 2680 2489   32 1504 3995  136  127   77   17    9\n",
            "  310    6 3548 1269 2838 1009 2621  335  200   88  646    5  215  143\n",
            "  758 2580    2 4014 4579  277  383  179  175   26  383    7  175   55\n",
            "    5  535  799  890 1534  215  419  745]\n",
            "[   6  454 2754    2  273  562   51   58   23    8  627  166  340  161\n",
            "  447   72  476   29  148   45 1459  681 2161   23   45  132  181    2\n",
            "  170  469  162  448   25   60  595   38  578 1451  332   63 1019  937\n",
            "    1    4    3   67  547  669 1095  213]\n"
          ]
        }
      ]
    },
    {
      "cell_type": "markdown",
      "source": [
        "Now we'll convert our train and test sets to tensor objects so the keras is able to analyze it."
      ],
      "metadata": {
        "id": "tpgL6rEYuy7j"
      }
    },
    {
      "cell_type": "code",
      "source": [
        "X_train_vector_tensor = tf.convert_to_tensor(X_train_vector)\n",
        "X_test_vector_tensor = tf.convert_to_tensor(X_test_vector)\n",
        "y_train_tensor = tf.convert_to_tensor(y_train, dtype=tf.int32)\n",
        "y_test_tensor = tf.convert_to_tensor(y_test, dtype=tf.int32)"
      ],
      "metadata": {
        "id": "BvXK_8DRUMSH"
      },
      "execution_count": null,
      "outputs": []
    },
    {
      "cell_type": "markdown",
      "source": [
        "Initializing the keras LSTM model"
      ],
      "metadata": {
        "id": "QeBX2WcsurjR"
      }
    },
    {
      "cell_type": "code",
      "source": [
        "from keras.models import Sequential\n",
        "from keras.layers import Dense, Embedding, GlobalAveragePooling1D\n",
        "from keras import backend as K\n",
        "from keras.optimizers import Adam\n",
        "from keras.layers import Dropout\n",
        "\n",
        "model = Sequential([Embedding(10000, 17), \n",
        "                   GlobalAveragePooling1D(),\n",
        "                   Dense(17,activation = \"relu\"),\n",
        "                   Dense(12,activation = \"relu\"),\n",
        "                   Dense(1,activation = \"sigmoid\")])\n",
        "\n",
        "\n",
        "myoptimizer = tf.keras.optimizers.Adam(learning_rate = 0.0001)\n",
        "model.compile(\n",
        "    loss = \"binary_crossentropy\",\n",
        "    optimizer = myoptimizer,\n",
        "    metrics = [\"accuracy\"])\n",
        "model.summary()"
      ],
      "metadata": {
        "id": "mzanRFwKXn-O",
        "colab": {
          "base_uri": "https://localhost:8080/"
        },
        "outputId": "be1cdc84-3630-4dc3-f957-b0cb9306c7e0"
      },
      "execution_count": null,
      "outputs": [
        {
          "output_type": "stream",
          "name": "stdout",
          "text": [
            "Model: \"sequential_35\"\n",
            "_________________________________________________________________\n",
            " Layer (type)                Output Shape              Param #   \n",
            "=================================================================\n",
            " embedding_28 (Embedding)    (None, None, 17)          170000    \n",
            "                                                                 \n",
            " global_average_pooling1d_28  (None, 17)               0         \n",
            "  (GlobalAveragePooling1D)                                       \n",
            "                                                                 \n",
            " dense_96 (Dense)            (None, 17)                306       \n",
            "                                                                 \n",
            " dense_97 (Dense)            (None, 12)                216       \n",
            "                                                                 \n",
            " dense_98 (Dense)            (None, 1)                 13        \n",
            "                                                                 \n",
            "=================================================================\n",
            "Total params: 170,535\n",
            "Trainable params: 170,535\n",
            "Non-trainable params: 0\n",
            "_________________________________________________________________\n"
          ]
        }
      ]
    },
    {
      "cell_type": "markdown",
      "source": [
        "Fit to the LSTM keras model"
      ],
      "metadata": {
        "id": "Y45d2gm-vvZN"
      }
    },
    {
      "cell_type": "code",
      "source": [
        "history = model.fit(X_train_vector_tensor, y_train_tensor, validation_data=(X_test_vector_tensor, y_test_tensor), epochs=10, verbose = 1, shuffle = True, batch_size = 25)\n"
      ],
      "metadata": {
        "id": "sxy-Bt5GMcSG",
        "colab": {
          "base_uri": "https://localhost:8080/"
        },
        "outputId": "56d59959-3b9c-4dfd-f39b-1ddf74e3e3d0"
      },
      "execution_count": null,
      "outputs": [
        {
          "output_type": "stream",
          "name": "stdout",
          "text": [
            "Epoch 1/10\n",
            "1600/1600 [==============================] - 15s 9ms/step - loss: 0.6407 - accuracy: 0.7468 - val_loss: 0.5152 - val_accuracy: 0.8306\n",
            "Epoch 2/10\n",
            "1600/1600 [==============================] - 17s 11ms/step - loss: 0.4107 - accuracy: 0.8455 - val_loss: 0.3551 - val_accuracy: 0.8542\n",
            "Epoch 3/10\n",
            "1600/1600 [==============================] - 17s 10ms/step - loss: 0.3252 - accuracy: 0.8651 - val_loss: 0.3311 - val_accuracy: 0.8608\n",
            "Epoch 4/10\n",
            "1600/1600 [==============================] - 12s 8ms/step - loss: 0.2999 - accuracy: 0.8754 - val_loss: 0.3262 - val_accuracy: 0.8593\n",
            "Epoch 5/10\n",
            "1600/1600 [==============================] - 11s 7ms/step - loss: 0.2862 - accuracy: 0.8820 - val_loss: 0.3247 - val_accuracy: 0.8633\n",
            "Epoch 6/10\n",
            "1600/1600 [==============================] - 13s 8ms/step - loss: 0.2767 - accuracy: 0.8866 - val_loss: 0.3260 - val_accuracy: 0.8633\n",
            "Epoch 7/10\n",
            "1600/1600 [==============================] - 17s 10ms/step - loss: 0.2696 - accuracy: 0.8893 - val_loss: 0.3285 - val_accuracy: 0.8607\n",
            "Epoch 8/10\n",
            "1600/1600 [==============================] - 16s 10ms/step - loss: 0.2643 - accuracy: 0.8923 - val_loss: 0.3314 - val_accuracy: 0.8576\n",
            "Epoch 9/10\n",
            "1600/1600 [==============================] - 14s 9ms/step - loss: 0.2600 - accuracy: 0.8941 - val_loss: 0.3344 - val_accuracy: 0.8584\n",
            "Epoch 10/10\n",
            "1600/1600 [==============================] - 10s 6ms/step - loss: 0.2563 - accuracy: 0.8960 - val_loss: 0.3381 - val_accuracy: 0.8578\n"
          ]
        }
      ]
    },
    {
      "cell_type": "markdown",
      "source": [
        "Calculate the accuracy for our LSTM model on our test set."
      ],
      "metadata": {
        "id": "oHQowYNj0kxG"
      }
    },
    {
      "cell_type": "code",
      "source": [
        "loss, accuracy = model.evaluate(X_test_vector_tensor, y_test_tensor)\n",
        "print(\"Accuracy is : \", accuracy*100)"
      ],
      "metadata": {
        "id": "8QBf4EboruPP",
        "colab": {
          "base_uri": "https://localhost:8080/"
        },
        "outputId": "4b4a7518-0c82-4c8b-bd12-a29e52b8a6fe"
      },
      "execution_count": null,
      "outputs": [
        {
          "output_type": "stream",
          "name": "stdout",
          "text": [
            "313/313 [==============================] - 1s 2ms/step - loss: 0.3381 - accuracy: 0.8578\n",
            "Accuracy is :  85.78000068664551\n"
          ]
        }
      ]
    },
    {
      "cell_type": "markdown",
      "source": [
        "# Model accuracy/loss plots\n",
        "\n"
      ],
      "metadata": {
        "id": "ZOdLd82zU3NT"
      }
    },
    {
      "cell_type": "markdown",
      "source": [
        "Here are the plots of our model accuracy and model loss as a function of number of epochs."
      ],
      "metadata": {
        "id": "ydvPpWgKVNTK"
      }
    },
    {
      "cell_type": "code",
      "source": [
        "plt.plot(history.history['accuracy'])\n",
        "plt.plot(history.history['val_accuracy'])\n",
        "plt.title('model accuracy')\n",
        "plt.ylabel('accuracy')\n",
        "plt.xlabel('epoch')\n",
        "plt.legend(['train', 'val'], loc='upper left')\n",
        "plt.show()"
      ],
      "metadata": {
        "id": "Mg_8C479zR5J",
        "colab": {
          "base_uri": "https://localhost:8080/",
          "height": 295
        },
        "outputId": "8769bfd1-e508-4af3-9ac4-e7314e6de2cf"
      },
      "execution_count": null,
      "outputs": [
        {
          "output_type": "display_data",
          "data": {
            "text/plain": [
              "<Figure size 432x288 with 1 Axes>"
            ],
            "image/png": "[encoded data removed]"
          },
          "metadata": {
            "needs_background": "light"
          }
        }
      ]
    },
    {
      "cell_type": "code",
      "source": [
        "plt.plot(history.history['loss'])\n",
        "plt.plot(history.history['val_loss'])\n",
        "plt.title('model loss')\n",
        "plt.ylabel('loss')\n",
        "plt.xlabel('epoch')\n",
        "plt.legend(['train', 'val'], loc='upper left')\n",
        "plt.show()"
      ],
      "metadata": {
        "id": "KYmhHpuEz4RB",
        "colab": {
          "base_uri": "https://localhost:8080/",
          "height": 295
        },
        "outputId": "b44df6fe-c0c4-40b3-92a9-6081078c7eff"
      },
      "execution_count": null,
      "outputs": [
        {
          "output_type": "display_data",
          "data": {
            "text/plain": [
              "<Figure size 432x288 with 1 Axes>"
            ],
            "image/png": "[encoded data removed]"
          },
          "metadata": {
            "needs_background": "light"
          }
        }
      ]
    },
    {
      "cell_type": "markdown",
      "source": [
        "# Test the model"
      ],
      "metadata": {
        "id": "ZQTmGtBDyIqA"
      }
    },
    {
      "cell_type": "code",
      "source": [
        "sample = \"The product was very terrifying and awful.\"  # Change this to your own custom input to see how the prediction changes!\n",
        "sample = sample.translate(str.maketrans('', '', string.punctuation)).lower()\n",
        "sample = sample.split()\n",
        "sample = [word for word in sample if word not in stop]\n",
        "sample"
      ],
      "metadata": {
        "id": "ymegteEmv8HI",
        "colab": {
          "base_uri": "https://localhost:8080/"
        },
        "outputId": "2717f957-a683-4b96-96e6-09cb763e8e04"
      },
      "execution_count": null,
      "outputs": [
        {
          "output_type": "execute_result",
          "data": {
            "text/plain": [
              "['product', 'terrifying', 'awful']"
            ]
          },
          "metadata": {},
          "execution_count": 363
        }
      ]
    },
    {
      "cell_type": "markdown",
      "source": [
        "Tokenize the sample to numbers"
      ],
      "metadata": {
        "id": "kRaoqQA1yAE0"
      }
    },
    {
      "cell_type": "code",
      "source": [
        "sample = tokenizer.texts_to_sequences(sample)\n",
        "sample\n",
        "simple_list = []\n",
        "for sublist in sample:\n",
        "    for item in sublist:\n",
        "        simple_list.append(item)\n",
        "simple_list = [simple_list]\n",
        "sample_review = pad_sequences(simple_list, padding='post', maxlen=lenRev)"
      ],
      "metadata": {
        "id": "7pEPOS4txfZo"
      },
      "execution_count": null,
      "outputs": []
    },
    {
      "cell_type": "markdown",
      "source": [
        "Predict the sample"
      ],
      "metadata": {
        "id": "WeON3Sc8x7Yh"
      }
    },
    {
      "cell_type": "code",
      "source": [
        "ans = model.predict(sample_review)\n",
        "ans"
      ],
      "metadata": {
        "id": "NEnyNanpxt12",
        "colab": {
          "base_uri": "https://localhost:8080/"
        },
        "outputId": "91d49be0-af21-45cf-ad04-3794507cb9d9"
      },
      "execution_count": null,
      "outputs": [
        {
          "output_type": "stream",
          "name": "stdout",
          "text": [
            "1/1 [==============================] - 0s 72ms/step\n"
          ]
        },
        {
          "output_type": "execute_result",
          "data": {
            "text/plain": [
              "array([[0.17170465]], dtype=float32)"
            ]
          },
          "metadata": {},
          "execution_count": 365
        }
      ]
    },
    {
      "cell_type": "markdown",
      "source": [
        "Tell whether the sample is positive or negative"
      ],
      "metadata": {
        "id": "vbQT7aVJx1Gu"
      }
    },
    {
      "cell_type": "code",
      "source": [
        "if (0.4 <= ans <= 0.6):\n",
        "    print(\"The review is not too good nor too bad\")\n",
        "if(ans>0.6):\n",
        "    print(\"The review is positive\")\n",
        "elif(ans<0.4):\n",
        "    print(\"The review is negative\")"
      ],
      "metadata": {
        "id": "FPDxsOqCxwL_",
        "colab": {
          "base_uri": "https://localhost:8080/"
        },
        "outputId": "3dde2346-4d11-452d-f944-a0df4a12302c"
      },
      "execution_count": null,
      "outputs": [
        {
          "output_type": "stream",
          "name": "stdout",
          "text": [
            "The review is negative\n"
          ]
        }
      ]
    },
    {
      "cell_type": "markdown",
      "source": [
        "### Part 2: SVM/Logistic Regression/Random Forest\n",
        "\n",
        "For this section, we're going to re-vectorize our original dataframe using the tf-idf approach for each word in our reviews and sic simpler, non-neural network classifiers on them.\n",
        "\n",
        "TF-IDF stands for Term Frequency-Inverse Document Frequency.\n",
        "\n",
        "It is meant to determine how important a word is to a review. For each word, it takes the frequency of that term in each review and compares it to the number of reviews that have that term to decide how important each word is. Words with a higher TF-IDF score are more important.\n",
        "\n",
        "First, let's do some importing."
      ],
      "metadata": {
        "id": "0f3kzSLbV3Di"
      }
    },
    {
      "cell_type": "code",
      "source": [
        "from sklearn.metrics import classification_report,confusion_matrix,accuracy_score\n",
        "import seaborn as sns\n",
        "from sklearn.feature_extraction.text import TfidfVectorizer\n",
        "from sklearn.svm import SVC\n",
        "from sklearn.linear_model import LogisticRegression\n",
        "from sklearn.ensemble import RandomForestClassifier"
      ],
      "metadata": {
        "id": "9jNcjFzpV7Ix"
      },
      "execution_count": null,
      "outputs": []
    },
    {
      "cell_type": "markdown",
      "source": [
        "Now we'll vectorize our data using the TF-IDF approach."
      ],
      "metadata": {
        "id": "IgKzhEnXV-Qx"
      }
    },
    {
      "cell_type": "code",
      "source": [
        "# Let's use the tf-idf approach to vectorize our data\n",
        "\n",
        "tfd = TfidfVectorizer(ngram_range=(1,3), max_features=5000)\n",
        "\n",
        "X_vector = tfd.fit_transform(X)\n",
        "\n",
        "X_vector = X_vector.toarray()\n",
        "\n",
        "X_vector.shape"
      ],
      "metadata": {
        "colab": {
          "base_uri": "https://localhost:8080/"
        },
        "id": "Y8FjgaUWV9lR",
        "outputId": "5ddf3170-96f4-4faa-aff2-c354d5ebfef4"
      },
      "execution_count": null,
      "outputs": [
        {
          "output_type": "execute_result",
          "data": {
            "text/plain": [
              "(50000, 5000)"
            ]
          },
          "metadata": {},
          "execution_count": 368
        }
      ]
    },
    {
      "cell_type": "markdown",
      "source": [
        "Now we'll create a new train/test set using our new tf-idf vectors."
      ],
      "metadata": {
        "id": "2wmXaO7RWQZD"
      }
    },
    {
      "cell_type": "code",
      "source": [
        "X_train_tfd, X_test_tfd, y_train_tfd, y_test_tfd = train_test_split(X_vector, y, test_size=0.20, random_state=5)\n",
        "y_train_tfd = y_train_tfd.astype(int)\n",
        "y_test_tfd = y_test_tfd.astype(int)"
      ],
      "metadata": {
        "id": "VZLhtbUhWNr6"
      },
      "execution_count": null,
      "outputs": []
    },
    {
      "cell_type": "markdown",
      "source": [
        "It's time to run our models!"
      ],
      "metadata": {
        "id": "ScmEdWDtWSkT"
      }
    },
    {
      "cell_type": "markdown",
      "source": [
        "### SVM\n"
      ],
      "metadata": {
        "id": "gGO6QazeWUrB"
      }
    },
    {
      "cell_type": "code",
      "source": [
        "# SVM\n",
        "\n",
        "svc = SVC(kernel='linear')\n",
        "svc.fit(X_train_tfd, y_train_tfd, verbose=1)"
      ],
      "metadata": {
        "id": "RXhurnwQWXHT"
      },
      "execution_count": null,
      "outputs": []
    },
    {
      "cell_type": "code",
      "source": [
        "print(\"The accuracy of the SVM model is: \", svc.score(X_test_tfd,y_test_tfd)*100)\n",
        "predictions_svc=svc.predict(X_test_tfd)\n",
        "print(classification_report(y_test_tfd,predictions_svc))\n",
        "cm=confusion_matrix(y_test_tfd,predictions_svc)\n",
        "sns.heatmap(cm,annot=True,fmt='d')"
      ],
      "metadata": {
        "id": "0Rsa7xqxWabB"
      },
      "execution_count": null,
      "outputs": []
    },
    {
      "cell_type": "markdown",
      "source": [
        "### Logistic Regression"
      ],
      "metadata": {
        "id": "IBN7rwldWm0q"
      }
    },
    {
      "cell_type": "code",
      "source": [
        "# Logistic Regression\n",
        "\n",
        "lr=LogisticRegression()\n",
        "lr.fit(X_train_tfd,y_train_tfd)"
      ],
      "metadata": {
        "id": "oLu24BOZWoUC"
      },
      "execution_count": null,
      "outputs": []
    },
    {
      "cell_type": "code",
      "source": [
        "print(\"The accuracy of the LR model is: \", lr.score(X_test_tfd,y_test_tfd)*100)\n",
        "predictions_lr=lr.predict(X_test_tfd)\n",
        "print(classification_report(y_test_tfd,predictions_lr))\n",
        "cm=confusion_matrix(y_test_tfd,predictions_lr)\n",
        "sns.heatmap(cm,annot=True,fmt='d')"
      ],
      "metadata": {
        "id": "YdHA4CyyWqRi"
      },
      "execution_count": null,
      "outputs": []
    },
    {
      "cell_type": "markdown",
      "source": [
        "### Random Forest Classifier"
      ],
      "metadata": {
        "id": "okbi40odWrqx"
      }
    },
    {
      "cell_type": "code",
      "source": [
        "# Random Forest\n",
        "\n",
        "rf=RandomForestClassifier(n_estimators=100)\n",
        "rf.fit(X_train_tfd,y_train_tfd)"
      ],
      "metadata": {
        "id": "VgQCpIhpWui5"
      },
      "execution_count": null,
      "outputs": []
    },
    {
      "cell_type": "code",
      "source": [
        "print(\"The accuracy of the Random Forest model is: \", rf.score(X_test_tfd,y_test_tfd)*100)\n",
        "predictions_rf=rf.predict(X_test_tfd)\n",
        "print(classification_report(y_test_tfd,predictions_rf))\n",
        "cm=confusion_matrix(y_test_tfd,predictions_rf)\n",
        "sns.heatmap(cm,annot=True,fmt='d')"
      ],
      "metadata": {
        "id": "TFm1KILMWwax"
      },
      "execution_count": null,
      "outputs": []
    },
    {
      "cell_type": "markdown",
      "source": [
        "Let's compare the accuracies of our 3 models."
      ],
      "metadata": {
        "id": "gii_XlCmWyhh"
      }
    },
    {
      "cell_type": "code",
      "source": [
        "print(\"SVM: \" + str(svc.score(X_test_tfd, y_test_tfd)))\n",
        "print(\"RF: \" + str(rf.score(X_test_tfd, y_test_tfd)))\n",
        "print(\"LR: \" + str(lr.score(X_test_tfd, y_test_tfd)))"
      ],
      "metadata": {
        "id": "CzmoP0bgWzDp"
      },
      "execution_count": null,
      "outputs": []
    },
    {
      "cell_type": "markdown",
      "source": [
        "And, let's add in our accuracy from our LSTM..."
      ],
      "metadata": {
        "id": "ZseJisN5W3lK"
      }
    },
    {
      "cell_type": "code",
      "source": [
        "loss, accuracy = model.evaluate(X_test_vector_tensor, y_test_tensor)\n",
        "\n",
        "print(\"LSTM: \" + str(accuracy))"
      ],
      "metadata": {
        "id": "OCxxxsygW2kB"
      },
      "execution_count": null,
      "outputs": []
    },
    {
      "cell_type": "markdown",
      "metadata": {
        "id": "eFVuVafrkj7J"
      },
      "source": [
        "# Analysis of results"
      ]
    },
    {
      "cell_type": "markdown",
      "metadata": {
        "id": "joNdQkcNkj7J"
      },
      "source": [
        "### LSTM\n",
        "\n",
        "We found that the highest accuracy of the validation set is acheved with smaller amounts of epochs. Once we go past 2 or 3 the accuracy starts to plane out and won't achieve any higher accuracy. The higher the epochs the lower the accuracy and the higher the loss.\n",
        "\n",
        "We tried to fix this by modifying multiple factors of the keras LSTM model. \n",
        "\n",
        "First we decreased the learning rate of the \"adam\" optimizer to 0.0001 and found some marginal increases in the accuracy and decreases in the loss.\n",
        "\n",
        "We then tried to add a dropout to our model of .2, this did make our graphs look better but would also remove a lot of the data.\n",
        "\n",
        "After that we tried to change the density and amount of layers both with varying results but none of them really gave us any better data than what we already had. Same with changing the activation of the layers.\n",
        "\n",
        "Callouts also just removed data and didnt really improve our results much.\n",
        "\n",
        "In the end, we decided that highest accuracy of our LSTM model on the validation set was most important. We weren't able to see clear overfitting with the number of epochs we iterated through. It is possible that, with higher epoch iterations, we could see this -- however, this is a job for when we have more time and higher computing power."
      ]
    },
    {
      "cell_type": "markdown",
      "source": [
        "### Simple Classifiers\n",
        "\n",
        "After utilizing the TF-IDF tokenization approach, we saw overall high accuracies across our SVM, LR, and RF models. TF-IDF is a powerful tokenization tool for machine learning models.\n",
        "\n",
        "Of our three models, we found that our logistic regression model performed the best. It also had the highest time efficiency."
      ],
      "metadata": {
        "id": "EJHT2x23fNa0"
      }
    },
    {
      "cell_type": "markdown",
      "source": [
        "\n",
        "Logistic regression seems like a decidedly good choice for this kind of sentiment analysis as it is meant for classification problems with labels that are discrete 1/0 values. It uses the sigmoid function to find the relationship between variables and map numbers to values between, but never exactly, 0 and 1.\n",
        "\n",
        "(As it turns out, the LSTM also uses a sigmoid layer in its processing.)\n",
        "\n",
        "In the future -- and with more time and computing power -- we could do a grid search with our logistic regression model to further tune our classifier and find the best parameters for the highest accuracy."
      ],
      "metadata": {
        "id": "vu88K0_0esJs"
      }
    },
    {
      "cell_type": "markdown",
      "source": [
        "# Summary"
      ],
      "metadata": {
        "id": "PhV1XQqLetY1"
      }
    },
    {
      "cell_type": "markdown",
      "source": [
        "Overall, we found the highest accuracy in prediction of IMDB reviews in our logistic regression model, although all of our models performed similarly with accuracies in the mid 80% for each.\n",
        "\n",
        "One point of surprise for us is the differences in accuracies between our simple classification models and our LSTM neural network.\n",
        "\n",
        "We expected that LSTM would yield a higher accuracy as a deep learning application. We did a lot of fine tuning to our hyperparameters but weren't able to consistently get an accuracy higher than that of our linear regression model. \n",
        "\n",
        "This may be a sign that more complex doesn't always mean better. Logistic regression seems to be the best fit for this sentiment analysis problem despite its simplicity. In the future, we would love to test our models on more datasets to see the variations on how these models perform."
      ],
      "metadata": {
        "id": "AoahkVFteoM0"
      }
    }
  ],
  "metadata": {
    "colab": {
      "provenance": [],
      "include_colab_link": true
    },
    "kernelspec": {
      "display_name": "Python 3.9.13 ('base')",
      "language": "python",
      "name": "python3"
    },
    "language_info": {
      "codemirror_mode": {
        "name": "ipython",
        "version": 3
      },
      "file_extension": ".py",
      "mimetype": "text/x-python",
      "name": "python",
      "nbconvert_exporter": "python",
      "pygments_lexer": "ipython3",
      "version": "3.9.15"
    },
    "vscode": {
      "interpreter": {
        "hash": "171477609014cceea94aef133bb7309ada38ad52d4bc39cf4203d15bf533d055"
      }
    }
  },
  "nbformat": 4,
  "nbformat_minor": 0
}