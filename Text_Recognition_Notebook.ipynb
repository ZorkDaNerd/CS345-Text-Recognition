{
  "cells": [
    {
      "cell_type": "markdown",
      "metadata": {
        "id": "view-in-github",
        "colab_type": "text"
      },
      "source": [
        "<a href=\"https://colab.research.google.com/github/ZorkDaNerd/CS345-Text-Recognition/blob/main/Text_Recognition_Notebook.ipynb\" target=\"_parent\"><img src=\"https://colab.research.google.com/assets/colab-badge.svg\" alt=\"Open In Colab\"/></a>"
      ]
    },
    {
      "cell_type": "markdown",
      "metadata": {
        "id": "varJNv0ukj69"
      },
      "source": [
        "*This notebook is part of our text recognition project for class CS345 at Colorado State University.\n",
        "Original versions were created by Zachary Shimpa, Jenelle Dobyns and Jordan Rust.\n",
        "The content is availabe [on GitHub](github.com/ZorkDaNerd/CS345-Text-Recognition).*\n",
        "\n",
        "*Code help and referance was provided from Prof. Asa Ben-Hur and CS 345: Machine Learning Foundations and Practice at Colorado State University.\n",
        "Original versions of these notebooks were created by Asa Ben-Hur with updates by Ross Beveridge.\n",
        "The content is availabe [on his GitHub](https://github.com/asabenhur/CS345).*"
      ]
    },
    {
      "cell_type": "markdown",
      "metadata": {
        "id": "view-in-github"
      },
      "source": [
        "<a href=\"https://colab.research.google.com/github/ZorkDaNerd/CS345-Text-Recognition/blob/main/Text_Recognition_Notebook.ipynb\" target=\"_parent\"><img src=\"https://colab.research.google.com/assets/colab-badge.svg\" alt=\"Open In Colab\"/></a>"
      ]
    },
    {
      "cell_type": "markdown",
      "metadata": {
        "id": "tuFviogMkj7C"
      },
      "source": [
        "Possible data sets\n",
        "\n",
        "https://www.kaggle.com/datasets/lakshmi25npathi/imdb-dataset-of-50k-movie-reviews\n",
        "Dataset from this\n",
        "\n",
        "https://medium.com/mlearning-ai/sentiment-analysis-using-lstm-21767a130857\n",
        "\n",
        "https://en.wikipedia.org/wiki/Sentiment_analysis\n",
        "\n",
        "https://valueml.com/sentiment-analysis-using-keras\n",
        "\n",
        "https://towardsdatascience.com/sentiment-analysis-on-amazon-reviews-45cd169447ac\n",
        "\n",
        "https://paperswithcode.com/dataset/imdb-movie-reviews\n",
        "\n",
        "https://www.kaggle.com/code/shubhamptrivedi/sentiment-analysis-on-imdb-movie-reviews\n",
        "\n",
        "https://www.kaggle.com/code/sohamdas27/imdb-movie-review-eda-sentiment-analysis\n",
        "\n",
        "https://www.kaggle.com/code/zhangwei20220818/imbd-sentiment-analysis-using-pytorch-lstm\n",
        "\n",
        "https://www.kaggle.com/code/vincentman0403/sentimental-analysis-on-imdb-by-lstm"
      ]
    },
    {
      "cell_type": "markdown",
      "metadata": {
        "id": "e9_HZZBhkj7C"
      },
      "source": [
        "# Description of Project"
      ]
    },
    {
      "cell_type": "markdown",
      "source": [],
      "metadata": {
        "id": "IlNExAU1o_xm"
      }
    },
    {
      "cell_type": "markdown",
      "metadata": {
        "id": "6sl6KyJYkj7D"
      },
      "source": [
        "This project is about recognizing text emotions using LSTM. This is a form of natural language processing."
      ]
    },
    {
      "cell_type": "markdown",
      "metadata": {
        "id": "R_bAk2fPkj7D"
      },
      "source": [
        "### Coding languages and packages used in project\n",
        "\n",
        "Ex: Anaconda, Python, ect"
      ]
    },
    {
      "cell_type": "markdown",
      "source": [
        "Imports"
      ],
      "metadata": {
        "id": "hp7JaaH6vmsI"
      }
    },
    {
      "cell_type": "code",
      "execution_count": null,
      "metadata": {
        "id": "5KiYYTwEkj7E"
      },
      "outputs": [],
      "source": [
        "import pandas as pd\n",
        "import numpy as np\n",
        "from matplotlib import pyplot as plt\n",
        "from sklearn.model_selection import train_test_split\n",
        "import os\n",
        "from glob import glob\n",
        "import tensorflow as tf\n",
        "from tensorflow import keras\n",
        "from keras.datasets import imdb\n",
        "from wordcloud import WordCloud,STOPWORDS\n",
        "import string\n",
        "import re"
      ]
    },
    {
      "cell_type": "markdown",
      "source": [
        "Let's import our data"
      ],
      "metadata": {
        "id": "Cl4wxGeZvhPR"
      }
    },
    {
      "cell_type": "code",
      "source": [
        "imdb_data=pd.read_csv(\"https://github.com/ZorkDaNerd/CS345-Text-Recognition/raw/main/Datasets/IMDB%20Dataset/IMDB%20Dataset.csv\")\n",
        "imdb_data.head(10)\n",
        "\n",
        "# Sentiment count - We can see that our data is perfectly balanced\n",
        "# imdb_data['sentiment'].value_counts()"
      ],
      "metadata": {
        "colab": {
          "base_uri": "https://localhost:8080/",
          "height": 363
        },
        "id": "PNvoDKw3p7rA",
        "outputId": "4f47d19e-5a5a-4c32-f278-a4266c43c9eb"
      },
      "execution_count": null,
      "outputs": [
        {
          "output_type": "execute_result",
          "data": {
            "text/plain": [
              "                                              review sentiment\n",
              "0  One of the other reviewers has mentioned that ...  positive\n",
              "1  A wonderful little production. <br /><br />The...  positive\n",
              "2  I thought this was a wonderful way to spend ti...  positive\n",
              "3  Basically there's a family where a little boy ...  negative\n",
              "4  Petter Mattei's \"Love in the Time of Money\" is...  positive\n",
              "5  Probably my all-time favorite movie, a story o...  positive\n",
              "6  I sure would like to see a resurrection of a u...  positive\n",
              "7  This show was an amazing, fresh & innovative i...  negative\n",
              "8  Encouraged by the positive comments about this...  negative\n",
              "9  If you like original gut wrenching laughter yo...  positive"
            ],
            "text/html": [
              "\n",
              "  <div id=\"df-cb7a65a6-558d-4b9d-9a63-83271f8d1a49\">\n",
              "    <div class=\"colab-df-container\">\n",
              "      <div>\n",
              "<style scoped>\n",
              "    .dataframe tbody tr th:only-of-type {\n",
              "        vertical-align: middle;\n",
              "    }\n",
              "\n",
              "    .dataframe tbody tr th {\n",
              "        vertical-align: top;\n",
              "    }\n",
              "\n",
              "    .dataframe thead th {\n",
              "        text-align: right;\n",
              "    }\n",
              "</style>\n",
              "<table border=\"1\" class=\"dataframe\">\n",
              "  <thead>\n",
              "    <tr style=\"text-align: right;\">\n",
              "      <th></th>\n",
              "      <th>review</th>\n",
              "      <th>sentiment</th>\n",
              "    </tr>\n",
              "  </thead>\n",
              "  <tbody>\n",
              "    <tr>\n",
              "      <th>0</th>\n",
              "      <td>One of the other reviewers has mentioned that ...</td>\n",
              "      <td>positive</td>\n",
              "    </tr>\n",
              "    <tr>\n",
              "      <th>1</th>\n",
              "      <td>A wonderful little production. &lt;br /&gt;&lt;br /&gt;The...</td>\n",
              "      <td>positive</td>\n",
              "    </tr>\n",
              "    <tr>\n",
              "      <th>2</th>\n",
              "      <td>I thought this was a wonderful way to spend ti...</td>\n",
              "      <td>positive</td>\n",
              "    </tr>\n",
              "    <tr>\n",
              "      <th>3</th>\n",
              "      <td>Basically there's a family where a little boy ...</td>\n",
              "      <td>negative</td>\n",
              "    </tr>\n",
              "    <tr>\n",
              "      <th>4</th>\n",
              "      <td>Petter Mattei's \"Love in the Time of Money\" is...</td>\n",
              "      <td>positive</td>\n",
              "    </tr>\n",
              "    <tr>\n",
              "      <th>5</th>\n",
              "      <td>Probably my all-time favorite movie, a story o...</td>\n",
              "      <td>positive</td>\n",
              "    </tr>\n",
              "    <tr>\n",
              "      <th>6</th>\n",
              "      <td>I sure would like to see a resurrection of a u...</td>\n",
              "      <td>positive</td>\n",
              "    </tr>\n",
              "    <tr>\n",
              "      <th>7</th>\n",
              "      <td>This show was an amazing, fresh &amp; innovative i...</td>\n",
              "      <td>negative</td>\n",
              "    </tr>\n",
              "    <tr>\n",
              "      <th>8</th>\n",
              "      <td>Encouraged by the positive comments about this...</td>\n",
              "      <td>negative</td>\n",
              "    </tr>\n",
              "    <tr>\n",
              "      <th>9</th>\n",
              "      <td>If you like original gut wrenching laughter yo...</td>\n",
              "      <td>positive</td>\n",
              "    </tr>\n",
              "  </tbody>\n",
              "</table>\n",
              "</div>\n",
              "      <button class=\"colab-df-convert\" onclick=\"convertToInteractive('df-cb7a65a6-558d-4b9d-9a63-83271f8d1a49')\"\n",
              "              title=\"Convert this dataframe to an interactive table.\"\n",
              "              style=\"display:none;\">\n",
              "        \n",
              "  <svg xmlns=\"http://www.w3.org/2000/svg\" height=\"24px\"viewBox=\"0 0 24 24\"\n",
              "       width=\"24px\">\n",
              "    <path d=\"M0 0h24v24H0V0z\" fill=\"none\"/>\n",
              "    <path d=\"M18.56 5.44l.94 2.06.94-2.06 2.06-.94-2.06-.94-.94-2.06-.94 2.06-2.06.94zm-11 1L8.5 8.5l.94-2.06 2.06-.94-2.06-.94L8.5 2.5l-.94 2.06-2.06.94zm10 10l.94 2.06.94-2.06 2.06-.94-2.06-.94-.94-2.06-.94 2.06-2.06.94z\"/><path d=\"M17.41 7.96l-1.37-1.37c-.4-.4-.92-.59-1.43-.59-.52 0-1.04.2-1.43.59L10.3 9.45l-7.72 7.72c-.78.78-.78 2.05 0 2.83L4 21.41c.39.39.9.59 1.41.59.51 0 1.02-.2 1.41-.59l7.78-7.78 2.81-2.81c.8-.78.8-2.07 0-2.86zM5.41 20L4 18.59l7.72-7.72 1.47 1.35L5.41 20z\"/>\n",
              "  </svg>\n",
              "      </button>\n",
              "      \n",
              "  <style>\n",
              "    .colab-df-container {\n",
              "      display:flex;\n",
              "      flex-wrap:wrap;\n",
              "      gap: 12px;\n",
              "    }\n",
              "\n",
              "    .colab-df-convert {\n",
              "      background-color: #E8F0FE;\n",
              "      border: none;\n",
              "      border-radius: 50%;\n",
              "      cursor: pointer;\n",
              "      display: none;\n",
              "      fill: #1967D2;\n",
              "      height: 32px;\n",
              "      padding: 0 0 0 0;\n",
              "      width: 32px;\n",
              "    }\n",
              "\n",
              "    .colab-df-convert:hover {\n",
              "      background-color: #E2EBFA;\n",
              "      box-shadow: 0px 1px 2px rgba(60, 64, 67, 0.3), 0px 1px 3px 1px rgba(60, 64, 67, 0.15);\n",
              "      fill: #174EA6;\n",
              "    }\n",
              "\n",
              "    [theme=dark] .colab-df-convert {\n",
              "      background-color: #3B4455;\n",
              "      fill: #D2E3FC;\n",
              "    }\n",
              "\n",
              "    [theme=dark] .colab-df-convert:hover {\n",
              "      background-color: #434B5C;\n",
              "      box-shadow: 0px 1px 3px 1px rgba(0, 0, 0, 0.15);\n",
              "      filter: drop-shadow(0px 1px 2px rgba(0, 0, 0, 0.3));\n",
              "      fill: #FFFFFF;\n",
              "    }\n",
              "  </style>\n",
              "\n",
              "      <script>\n",
              "        const buttonEl =\n",
              "          document.querySelector('#df-cb7a65a6-558d-4b9d-9a63-83271f8d1a49 button.colab-df-convert');\n",
              "        buttonEl.style.display =\n",
              "          google.colab.kernel.accessAllowed ? 'block' : 'none';\n",
              "\n",
              "        async function convertToInteractive(key) {\n",
              "          const element = document.querySelector('#df-cb7a65a6-558d-4b9d-9a63-83271f8d1a49');\n",
              "          const dataTable =\n",
              "            await google.colab.kernel.invokeFunction('convertToInteractive',\n",
              "                                                     [key], {});\n",
              "          if (!dataTable) return;\n",
              "\n",
              "          const docLinkHtml = 'Like what you see? Visit the ' +\n",
              "            '<a target=\"_blank\" href=https://colab.research.google.com/notebooks/data_table.ipynb>data table notebook</a>'\n",
              "            + ' to learn more about interactive tables.';\n",
              "          element.innerHTML = '';\n",
              "          dataTable['output_type'] = 'display_data';\n",
              "          await google.colab.output.renderOutput(dataTable, element);\n",
              "          const docLink = document.createElement('div');\n",
              "          docLink.innerHTML = docLinkHtml;\n",
              "          element.appendChild(docLink);\n",
              "        }\n",
              "      </script>\n",
              "    </div>\n",
              "  </div>\n",
              "  "
            ]
          },
          "metadata": {},
          "execution_count": 426
        }
      ]
    },
    {
      "cell_type": "markdown",
      "source": [
        "Some house keeping of the data"
      ],
      "metadata": {
        "id": "tGPQcebKvbg7"
      }
    },
    {
      "cell_type": "code",
      "source": [
        "# Importing \n",
        "import nltk\n",
        "nltk.download('stopwords')\n",
        "from nltk.corpus import stopwords\n",
        "from nltk.stem.porter import PorterStemmer\n",
        "\n",
        "# Removing html tags\n",
        "imdb_data.review=imdb_data.review.str.replace('<[^<]+?>','')\n",
        "# Print(imdb_data['review'])\n",
        "# Set stopwords to english\n",
        "stop=set(stopwords.words('english'))\n",
        "print(stop)\n",
        "\n",
        "# Removing the stopwords\n",
        "from nltk.tokenize.toktok import ToktokTokenizer\n",
        "tokenizer=ToktokTokenizer()\n",
        "\n",
        "def remove_stopwords(text, is_lower_case=False):\n",
        "    tokens = tokenizer.tokenize(text)\n",
        "    tokens = [token.strip() for token in tokens]\n",
        "    if is_lower_case:\n",
        "        filtered_tokens = [token for token in tokens if token not in stop]\n",
        "    else:\n",
        "        filtered_tokens = [token for token in tokens if token.lower() not in stop]\n",
        "    filtered_text = ' '.join(filtered_tokens)    \n",
        "    return filtered_text\n",
        "    \n",
        "#Apply function on review column\n",
        "imdb_data['review'] = imdb_data['review'].apply(remove_stopwords).str.lower()\n",
        "\n",
        "sentiment = {'positive': 1, 'negative': 0}\n",
        "imdb_data['sentiment'] = [sentiment[item] for item in imdb_data['sentiment']]\n",
        "\n",
        "imdb_data.head()"
      ],
      "metadata": {
        "colab": {
          "base_uri": "https://localhost:8080/",
          "height": 313
        },
        "id": "Y8FpbiFf5skY",
        "outputId": "ca90eb78-d2f9-4749-aa7f-73a83cf40306"
      },
      "execution_count": null,
      "outputs": [
        {
          "output_type": "stream",
          "name": "stderr",
          "text": [
            "[nltk_data] Downloading package stopwords to /root/nltk_data...\n",
            "[nltk_data]   Package stopwords is already up-to-date!\n",
            "<ipython-input-427-b04e496a2d04>:8: FutureWarning: The default value of regex will change from True to False in a future version.\n",
            "  imdb_data.review=imdb_data.review.str.replace('<[^<]+?>','')\n"
          ]
        },
        {
          "output_type": "stream",
          "name": "stdout",
          "text": [
            "{'why', 'just', 're', \"couldn't\", 'further', 'all', 't', 'she', 'which', 'myself', 'my', 'weren', \"it's\", 'these', \"aren't\", 'when', 'few', 'is', 'your', 'mustn', \"you've\", 'now', 'had', 'while', 'her', \"hadn't\", 'about', 'out', 'haven', 'above', \"she's\", 'from', 'on', 'other', 'through', 'you', 'between', 'can', \"that'll\", 'there', 'yours', 'here', 'are', \"needn't\", 've', 'more', 'ourselves', \"didn't\", 'ma', 'herself', 'any', 'each', 'only', 'ours', 'after', 'i', 'mightn', 'o', \"doesn't\", \"wasn't\", 'ain', 'its', 'doesn', 'and', 'did', 'off', 'hadn', 'below', 'was', 'but', 'during', 'hers', 'didn', 'isn', 'nor', 'or', \"isn't\", 'has', 'at', 'don', 'into', 'those', \"won't\", 'yourselves', 'an', 'as', 'if', \"you'll\", 'against', 'been', 'before', 'because', 'same', \"should've\", 'so', 'shouldn', 'down', \"mustn't\", 'both', 'whom', 'than', \"you're\", 'such', \"shan't\", \"don't\", 'couldn', 'who', 'itself', 'aren', 'our', 'his', 'then', 'wasn', 'most', 'this', 'with', 'won', 'of', 'shan', \"wouldn't\", 'yourself', 'd', 'theirs', 'in', 'wouldn', 'll', \"mightn't\", 'them', \"shouldn't\", 'very', 'be', 'a', 'not', 'should', 'do', 'y', 'needn', 'how', 'hasn', 'until', 'he', 'me', 'him', 'own', 'we', 'himself', 'up', 'will', 'm', \"haven't\", 'to', 'what', 'once', \"hasn't\", 'that', 'themselves', 'being', 'they', 'over', 's', 'the', \"you'd\", 'were', 'doing', 'having', 'for', 'where', 'some', 'have', 'does', 'under', 'no', 'too', \"weren't\", 'again', 'am', 'their', 'by', 'it'}\n"
          ]
        },
        {
          "output_type": "execute_result",
          "data": {
            "text/plain": [
              "                                              review  sentiment\n",
              "0  one reviewers mentioned watching 1 oz episode ...          1\n",
              "1  wonderful little production. filming technique...          1\n",
              "2  thought wonderful way spend time hot summer we...          1\n",
              "3  basically ' family little boy ( jake ) thinks ...          0\n",
              "4  petter mattei ' \" love time money \" visually s...          1"
            ],
            "text/html": [
              "\n",
              "  <div id=\"df-6b57578b-9729-451e-b239-8f45da94eceb\">\n",
              "    <div class=\"colab-df-container\">\n",
              "      <div>\n",
              "<style scoped>\n",
              "    .dataframe tbody tr th:only-of-type {\n",
              "        vertical-align: middle;\n",
              "    }\n",
              "\n",
              "    .dataframe tbody tr th {\n",
              "        vertical-align: top;\n",
              "    }\n",
              "\n",
              "    .dataframe thead th {\n",
              "        text-align: right;\n",
              "    }\n",
              "</style>\n",
              "<table border=\"1\" class=\"dataframe\">\n",
              "  <thead>\n",
              "    <tr style=\"text-align: right;\">\n",
              "      <th></th>\n",
              "      <th>review</th>\n",
              "      <th>sentiment</th>\n",
              "    </tr>\n",
              "  </thead>\n",
              "  <tbody>\n",
              "    <tr>\n",
              "      <th>0</th>\n",
              "      <td>one reviewers mentioned watching 1 oz episode ...</td>\n",
              "      <td>1</td>\n",
              "    </tr>\n",
              "    <tr>\n",
              "      <th>1</th>\n",
              "      <td>wonderful little production. filming technique...</td>\n",
              "      <td>1</td>\n",
              "    </tr>\n",
              "    <tr>\n",
              "      <th>2</th>\n",
              "      <td>thought wonderful way spend time hot summer we...</td>\n",
              "      <td>1</td>\n",
              "    </tr>\n",
              "    <tr>\n",
              "      <th>3</th>\n",
              "      <td>basically ' family little boy ( jake ) thinks ...</td>\n",
              "      <td>0</td>\n",
              "    </tr>\n",
              "    <tr>\n",
              "      <th>4</th>\n",
              "      <td>petter mattei ' \" love time money \" visually s...</td>\n",
              "      <td>1</td>\n",
              "    </tr>\n",
              "  </tbody>\n",
              "</table>\n",
              "</div>\n",
              "      <button class=\"colab-df-convert\" onclick=\"convertToInteractive('df-6b57578b-9729-451e-b239-8f45da94eceb')\"\n",
              "              title=\"Convert this dataframe to an interactive table.\"\n",
              "              style=\"display:none;\">\n",
              "        \n",
              "  <svg xmlns=\"http://www.w3.org/2000/svg\" height=\"24px\"viewBox=\"0 0 24 24\"\n",
              "       width=\"24px\">\n",
              "    <path d=\"M0 0h24v24H0V0z\" fill=\"none\"/>\n",
              "    <path d=\"M18.56 5.44l.94 2.06.94-2.06 2.06-.94-2.06-.94-.94-2.06-.94 2.06-2.06.94zm-11 1L8.5 8.5l.94-2.06 2.06-.94-2.06-.94L8.5 2.5l-.94 2.06-2.06.94zm10 10l.94 2.06.94-2.06 2.06-.94-2.06-.94-.94-2.06-.94 2.06-2.06.94z\"/><path d=\"M17.41 7.96l-1.37-1.37c-.4-.4-.92-.59-1.43-.59-.52 0-1.04.2-1.43.59L10.3 9.45l-7.72 7.72c-.78.78-.78 2.05 0 2.83L4 21.41c.39.39.9.59 1.41.59.51 0 1.02-.2 1.41-.59l7.78-7.78 2.81-2.81c.8-.78.8-2.07 0-2.86zM5.41 20L4 18.59l7.72-7.72 1.47 1.35L5.41 20z\"/>\n",
              "  </svg>\n",
              "      </button>\n",
              "      \n",
              "  <style>\n",
              "    .colab-df-container {\n",
              "      display:flex;\n",
              "      flex-wrap:wrap;\n",
              "      gap: 12px;\n",
              "    }\n",
              "\n",
              "    .colab-df-convert {\n",
              "      background-color: #E8F0FE;\n",
              "      border: none;\n",
              "      border-radius: 50%;\n",
              "      cursor: pointer;\n",
              "      display: none;\n",
              "      fill: #1967D2;\n",
              "      height: 32px;\n",
              "      padding: 0 0 0 0;\n",
              "      width: 32px;\n",
              "    }\n",
              "\n",
              "    .colab-df-convert:hover {\n",
              "      background-color: #E2EBFA;\n",
              "      box-shadow: 0px 1px 2px rgba(60, 64, 67, 0.3), 0px 1px 3px 1px rgba(60, 64, 67, 0.15);\n",
              "      fill: #174EA6;\n",
              "    }\n",
              "\n",
              "    [theme=dark] .colab-df-convert {\n",
              "      background-color: #3B4455;\n",
              "      fill: #D2E3FC;\n",
              "    }\n",
              "\n",
              "    [theme=dark] .colab-df-convert:hover {\n",
              "      background-color: #434B5C;\n",
              "      box-shadow: 0px 1px 3px 1px rgba(0, 0, 0, 0.15);\n",
              "      filter: drop-shadow(0px 1px 2px rgba(0, 0, 0, 0.3));\n",
              "      fill: #FFFFFF;\n",
              "    }\n",
              "  </style>\n",
              "\n",
              "      <script>\n",
              "        const buttonEl =\n",
              "          document.querySelector('#df-6b57578b-9729-451e-b239-8f45da94eceb button.colab-df-convert');\n",
              "        buttonEl.style.display =\n",
              "          google.colab.kernel.accessAllowed ? 'block' : 'none';\n",
              "\n",
              "        async function convertToInteractive(key) {\n",
              "          const element = document.querySelector('#df-6b57578b-9729-451e-b239-8f45da94eceb');\n",
              "          const dataTable =\n",
              "            await google.colab.kernel.invokeFunction('convertToInteractive',\n",
              "                                                     [key], {});\n",
              "          if (!dataTable) return;\n",
              "\n",
              "          const docLinkHtml = 'Like what you see? Visit the ' +\n",
              "            '<a target=\"_blank\" href=https://colab.research.google.com/notebooks/data_table.ipynb>data table notebook</a>'\n",
              "            + ' to learn more about interactive tables.';\n",
              "          element.innerHTML = '';\n",
              "          dataTable['output_type'] = 'display_data';\n",
              "          await google.colab.output.renderOutput(dataTable, element);\n",
              "          const docLink = document.createElement('div');\n",
              "          docLink.innerHTML = docLinkHtml;\n",
              "          element.appendChild(docLink);\n",
              "        }\n",
              "      </script>\n",
              "    </div>\n",
              "  </div>\n",
              "  "
            ]
          },
          "metadata": {},
          "execution_count": 427
        }
      ]
    },
    {
      "cell_type": "markdown",
      "source": [
        "Let's convert our data to a numpy array for faster data preprocessing and cleaning"
      ],
      "metadata": {
        "id": "oaFZVEfAzJm8"
      }
    },
    {
      "cell_type": "code",
      "source": [
        "imdb_data = np.array(imdb_data)\n",
        "\n",
        "#50,000 rows, 2 columns\n",
        "imdb_data.shape\n",
        "\n",
        "#Access our reviews column\n",
        "imdb_data[:,0]\n",
        "\n",
        "#Access our sentiment column\n",
        "imdb_data[:,1]"
      ],
      "metadata": {
        "id": "p7yRXePZ52sx",
        "colab": {
          "base_uri": "https://localhost:8080/"
        },
        "outputId": "35ed602a-5b69-4bea-d470-f8f56db18d66"
      },
      "execution_count": null,
      "outputs": [
        {
          "output_type": "execute_result",
          "data": {
            "text/plain": [
              "array([1, 1, 1, ..., 0, 0, 0], dtype=object)"
            ]
          },
          "metadata": {},
          "execution_count": 428
        }
      ]
    },
    {
      "cell_type": "markdown",
      "source": [
        "Let's use numpy to remove unneeded punctuation from our dataset that don't contribute to the overall sentiment of our reviews"
      ],
      "metadata": {
        "id": "rlMh593avSmh"
      }
    },
    {
      "cell_type": "code",
      "source": [
        "def remove_punctuation(text):\n",
        "    stripPunct = str.maketrans('', '', string.punctuation)\n",
        "    return np.array([i.translate(stripPunct) for i in text])\n",
        "\n",
        "#Apply function on review column\n",
        "imdb_data[:,0] = remove_punctuation(imdb_data[:,0])\n",
        "\n",
        "imdb_data[:,1]"
      ],
      "metadata": {
        "id": "TbjwDZWGq7XL",
        "colab": {
          "base_uri": "https://localhost:8080/"
        },
        "outputId": "913919d3-7524-446b-8586-e721149ae85c"
      },
      "execution_count": null,
      "outputs": [
        {
          "output_type": "execute_result",
          "data": {
            "text/plain": [
              "array([1, 1, 1, ..., 0, 0, 0], dtype=object)"
            ]
          },
          "metadata": {},
          "execution_count": 429
        }
      ]
    },
    {
      "cell_type": "markdown",
      "source": [
        "Define X and y"
      ],
      "metadata": {
        "id": "k-TW_zPku4VD"
      }
    },
    {
      "cell_type": "code",
      "source": [
        "X = imdb_data[:,0]\n",
        "imdb_data[:,1] = imdb_data[:,1].astype(str).astype(int)\n",
        "y = imdb_data[:,1]"
      ],
      "metadata": {
        "id": "bwM5E1iY9EHk"
      },
      "execution_count": null,
      "outputs": []
    },
    {
      "cell_type": "markdown",
      "source": [
        "Now that our data is cleaned up, let's make a train/test split 80/20"
      ],
      "metadata": {
        "id": "O1O8afKmu9Sn"
      }
    },
    {
      "cell_type": "code",
      "source": [
        "X_train, X_test, y_train, y_test = train_test_split(X, y, test_size=0.20, random_state=5)"
      ],
      "metadata": {
        "id": "qpxqbsTXu-aR"
      },
      "execution_count": null,
      "outputs": []
    },
    {
      "cell_type": "markdown",
      "source": [
        "We convert the words into numbers for the LSTM to process"
      ],
      "metadata": {
        "id": "BJkJ0pUQvDif"
      }
    },
    {
      "cell_type": "code",
      "source": [
        "print(X_train[0])\n",
        "from keras.preprocessing.text import Tokenizer    \n",
        "from keras.preprocessing.text import text_to_word_sequence \n",
        "tokenizer = Tokenizer(num_words=5000)\n",
        "tokenizer.fit_on_texts(X_train)\n",
        "X_train = tokenizer.texts_to_sequences(X_train)\n",
        "X_test = tokenizer.texts_to_sequences(X_test)\n",
        "print(X_train[0])"
      ],
      "metadata": {
        "colab": {
          "base_uri": "https://localhost:8080/"
        },
        "id": "u9ZspcGpogkG",
        "outputId": "bb3d7d44-10f9-4693-e84d-8e1c5a27c2ec"
      },
      "execution_count": null,
      "outputs": [
        {
          "output_type": "stream",
          "name": "stdout",
          "text": [
            "excellent reason edison went straight video  would landed theaters crumbling thud movie lasted entirely long perilously boring notch lowbrow  thanks freeman spacey  obviously spare two weeks next films   bad guys laughable action near nonexistent justin timberlake  acting hate knock guy  sooner realizes pop forte  betterthe movie  bad  mostly like fact cool j given appears shot leading man deserves it  unlike fellow musician costar  act kevin spacey almost always enjoyable well  see gulp several times chews scenery   freeman ability elevate flick three stars  ten   good  when said done  ultimate error movie mundane tiresome piece pseudoaction poppycock fails keep anyone awake also fails make anyone give good crap characters   plain boring said  rent suffering insomnia \n",
            "[200, 167, 282, 660, 270, 6, 2065, 1, 4571, 963, 101, 231, 3357, 1081, 3144, 4643, 395, 3510, 32, 2136, 248, 29, 17, 315, 1199, 116, 647, 2817, 3511, 34, 609, 4319, 106, 2487, 1534, 1, 17, 513, 4, 86, 464, 2477, 225, 592, 204, 834, 44, 872, 49, 921, 1480, 364, 1526, 4643, 113, 102, 606, 13, 10, 307, 112, 1190, 3144, 1097, 368, 171, 289, 610, 5, 186, 118, 1969, 1, 4572, 4867, 291, 860, 266, 135, 4888, 18, 860, 22, 135, 93, 5, 498, 26, 886, 231, 186, 701, 2192]\n"
          ]
        }
      ]
    },
    {
      "cell_type": "markdown",
      "source": [
        "Making the train and test statements to be of size 50 by truncating or padding accordingly"
      ],
      "metadata": {
        "id": "DKSpQgFLvM9c"
      }
    },
    {
      "cell_type": "code",
      "source": [
        "from keras.utils import pad_sequences\n",
        "lenRev = 50\n",
        "X_train = pad_sequences(X_train, padding='post', maxlen=lenRev)\n",
        "X_test = pad_sequences(X_test, padding='post', maxlen=lenRev)"
      ],
      "metadata": {
        "id": "mpqfhHmBoSC8"
      },
      "execution_count": null,
      "outputs": []
    },
    {
      "cell_type": "markdown",
      "source": [
        "Converts to a tensor object so the keras is able to analyze it"
      ],
      "metadata": {
        "id": "tpgL6rEYuy7j"
      }
    },
    {
      "cell_type": "code",
      "source": [
        "X_train = tf.convert_to_tensor(X_train)\n",
        "X_test = tf.convert_to_tensor(X_test)\n",
        "y_train = tf.convert_to_tensor(y_train, dtype=tf.int32)\n",
        "y_test = tf.convert_to_tensor(y_test, dtype=tf.int32)"
      ],
      "metadata": {
        "id": "BvXK_8DRUMSH"
      },
      "execution_count": null,
      "outputs": []
    },
    {
      "cell_type": "markdown",
      "source": [
        "Initializing the keras LSTM model"
      ],
      "metadata": {
        "id": "QeBX2WcsurjR"
      }
    },
    {
      "cell_type": "code",
      "source": [
        "from tensorflow.python.keras.models import Sequential\n",
        "from tensorflow.python.keras.layers import Dense, Embedding, GlobalAveragePooling1D\n",
        "model = Sequential([Embedding(10000, 17), \n",
        "                   GlobalAveragePooling1D(),\n",
        "                   Dense(17,activation = \"relu\"),\n",
        "                   Dense(12,activation = \"relu\"),\n",
        "                   Dense(1,activation = \"sigmoid\")])\n",
        "model.compile(\n",
        "    loss = \"binary_crossentropy\",\n",
        "    optimizer =  \"adam\",\n",
        "    metrics = [\"accuracy\"])\n",
        "model.summary()"
      ],
      "metadata": {
        "colab": {
          "base_uri": "https://localhost:8080/"
        },
        "id": "mzanRFwKXn-O",
        "outputId": "398ff8cb-01ab-4708-f120-e78f3adda520"
      },
      "execution_count": null,
      "outputs": [
        {
          "output_type": "stream",
          "name": "stdout",
          "text": [
            "Model: \"sequential_24\"\n",
            "_________________________________________________________________\n",
            "Layer (type)                 Output Shape              Param #   \n",
            "=================================================================\n",
            "embedding_24 (Embedding)     (None, None, 17)          170000    \n",
            "_________________________________________________________________\n",
            "global_average_pooling1d_24  (None, 17)                0         \n",
            "_________________________________________________________________\n",
            "dense_72 (Dense)             (None, 17)                306       \n",
            "_________________________________________________________________\n",
            "dense_73 (Dense)             (None, 12)                216       \n",
            "_________________________________________________________________\n",
            "dense_74 (Dense)             (None, 1)                 13        \n",
            "=================================================================\n",
            "Total params: 170,535\n",
            "Trainable params: 170,535\n",
            "Non-trainable params: 0\n",
            "_________________________________________________________________\n"
          ]
        }
      ]
    },
    {
      "cell_type": "markdown",
      "source": [
        "Fit to the LSTM keras model"
      ],
      "metadata": {
        "id": "Y45d2gm-vvZN"
      }
    },
    {
      "cell_type": "code",
      "source": [
        "model.fit(X_train, y_train, validation_data=(X_test, y_test), epochs=20, verbose = 1)"
      ],
      "metadata": {
        "id": "sxy-Bt5GMcSG",
        "colab": {
          "base_uri": "https://localhost:8080/"
        },
        "outputId": "29b3fc16-f05a-44cb-9d3c-15d99ea72a04"
      },
      "execution_count": null,
      "outputs": [
        {
          "output_type": "stream",
          "name": "stdout",
          "text": [
            "Epoch 1/20\n",
            "1250/1250 [==============================] - 6s 5ms/step - loss: 0.3871 - accuracy: 0.8353 - val_loss: 0.3168 - val_accuracy: 0.8640\n",
            "Epoch 2/20\n",
            "1250/1250 [==============================] - 6s 5ms/step - loss: 0.2839 - accuracy: 0.8814 - val_loss: 0.3223 - val_accuracy: 0.8616\n",
            "Epoch 3/20\n",
            "1250/1250 [==============================] - 6s 5ms/step - loss: 0.2681 - accuracy: 0.8899 - val_loss: 0.3292 - val_accuracy: 0.8604\n",
            "Epoch 4/20\n",
            "1250/1250 [==============================] - 6s 5ms/step - loss: 0.2610 - accuracy: 0.8931 - val_loss: 0.3352 - val_accuracy: 0.8580\n",
            "Epoch 5/20\n",
            "1250/1250 [==============================] - 6s 5ms/step - loss: 0.2546 - accuracy: 0.8962 - val_loss: 0.3412 - val_accuracy: 0.8554\n",
            "Epoch 6/20\n",
            "1250/1250 [==============================] - 6s 5ms/step - loss: 0.2502 - accuracy: 0.8986 - val_loss: 0.3460 - val_accuracy: 0.8541\n",
            "Epoch 7/20\n",
            "1250/1250 [==============================] - 6s 5ms/step - loss: 0.2458 - accuracy: 0.9004 - val_loss: 0.3466 - val_accuracy: 0.8541\n",
            "Epoch 8/20\n",
            "1250/1250 [==============================] - 6s 5ms/step - loss: 0.2403 - accuracy: 0.9040 - val_loss: 0.3514 - val_accuracy: 0.8509\n",
            "Epoch 9/20\n",
            "1250/1250 [==============================] - 6s 5ms/step - loss: 0.2310 - accuracy: 0.9068 - val_loss: 0.3541 - val_accuracy: 0.8500\n",
            "Epoch 10/20\n",
            "1250/1250 [==============================] - 7s 6ms/step - loss: 0.2163 - accuracy: 0.9093 - val_loss: 0.3680 - val_accuracy: 0.8502\n",
            "Epoch 11/20\n",
            "1250/1250 [==============================] - 7s 6ms/step - loss: 0.1996 - accuracy: 0.9161 - val_loss: 0.4087 - val_accuracy: 0.8494\n",
            "Epoch 12/20\n",
            "1250/1250 [==============================] - 11s 9ms/step - loss: 0.1850 - accuracy: 0.9224 - val_loss: 0.4461 - val_accuracy: 0.8441\n",
            "Epoch 13/20\n",
            "1250/1250 [==============================] - 6s 5ms/step - loss: 0.1674 - accuracy: 0.9325 - val_loss: 0.4935 - val_accuracy: 0.8410\n",
            "Epoch 14/20\n",
            "1250/1250 [==============================] - 6s 5ms/step - loss: 0.1507 - accuracy: 0.9408 - val_loss: 0.5251 - val_accuracy: 0.8360\n",
            "Epoch 15/20\n",
            "1250/1250 [==============================] - 7s 6ms/step - loss: 0.1349 - accuracy: 0.9483 - val_loss: 0.5703 - val_accuracy: 0.8307\n",
            "Epoch 16/20\n",
            "1250/1250 [==============================] - 6s 5ms/step - loss: 0.1183 - accuracy: 0.9566 - val_loss: 0.6414 - val_accuracy: 0.8306\n",
            "Epoch 17/20\n",
            "1250/1250 [==============================] - 6s 5ms/step - loss: 0.1015 - accuracy: 0.9640 - val_loss: 0.7444 - val_accuracy: 0.8277\n",
            "Epoch 18/20\n",
            "1250/1250 [==============================] - 6s 5ms/step - loss: 0.0897 - accuracy: 0.9681 - val_loss: 0.8064 - val_accuracy: 0.8267\n",
            "Epoch 19/20\n",
            "1250/1250 [==============================] - 6s 5ms/step - loss: 0.0764 - accuracy: 0.9733 - val_loss: 0.8829 - val_accuracy: 0.8176\n",
            "Epoch 20/20\n",
            "1250/1250 [==============================] - 6s 4ms/step - loss: 0.0659 - accuracy: 0.9783 - val_loss: 0.9770 - val_accuracy: 0.8192\n"
          ]
        },
        {
          "output_type": "execute_result",
          "data": {
            "text/plain": [
              "<tensorflow.python.keras.callbacks.History at 0x7fbc5dcb35e0>"
            ]
          },
          "metadata": {},
          "execution_count": 436
        }
      ]
    },
    {
      "cell_type": "markdown",
      "source": [
        "Calculate the accuracy"
      ],
      "metadata": {
        "id": "oHQowYNj0kxG"
      }
    },
    {
      "cell_type": "code",
      "source": [
        "loss, accuracy = model.evaluate(X_test, y_test)\n",
        "print(\"Accuracy is : \", accuracy*100)"
      ],
      "metadata": {
        "colab": {
          "base_uri": "https://localhost:8080/"
        },
        "id": "8QBf4EboruPP",
        "outputId": "441f6134-83ff-4382-fb83-3fd3f70f539d"
      },
      "execution_count": null,
      "outputs": [
        {
          "output_type": "stream",
          "name": "stdout",
          "text": [
            "313/313 [==============================] - 1s 2ms/step - loss: 0.9770 - accuracy: 0.8192\n",
            "Accuracy is :  81.91999793052673\n"
          ]
        }
      ]
    },
    {
      "cell_type": "markdown",
      "source": [
        "# Test the model"
      ],
      "metadata": {
        "id": "ZQTmGtBDyIqA"
      }
    },
    {
      "cell_type": "code",
      "source": [
        "sample = \"The product was very good and satisfying.\"\n",
        "sample = sample.translate(str.maketrans('', '', string.punctuation)).lower()\n",
        "sample = sample.split()\n",
        "sample = [word for word in sample if word not in stop]\n",
        "sample"
      ],
      "metadata": {
        "colab": {
          "base_uri": "https://localhost:8080/"
        },
        "id": "ymegteEmv8HI",
        "outputId": "6a7e0f44-c6bb-4c6e-c8a1-9f353f5287bb"
      },
      "execution_count": null,
      "outputs": [
        {
          "output_type": "execute_result",
          "data": {
            "text/plain": [
              "['product', 'good', 'satisfying']"
            ]
          },
          "metadata": {},
          "execution_count": 438
        }
      ]
    },
    {
      "cell_type": "markdown",
      "source": [
        "Tokenize the sample to numbers"
      ],
      "metadata": {
        "id": "kRaoqQA1yAE0"
      }
    },
    {
      "cell_type": "code",
      "source": [
        "sample = tokenizer.texts_to_sequences(sample)\n",
        "sample\n",
        "simple_list = []\n",
        "for sublist in sample:\n",
        "    for item in sublist:\n",
        "        simple_list.append(item)\n",
        "simple_list = [simple_list]\n",
        "sample_review = pad_sequences(simple_list, padding='post', maxlen=lenRev)"
      ],
      "metadata": {
        "id": "7pEPOS4txfZo"
      },
      "execution_count": null,
      "outputs": []
    },
    {
      "cell_type": "markdown",
      "source": [
        "Predict the sample"
      ],
      "metadata": {
        "id": "WeON3Sc8x7Yh"
      }
    },
    {
      "cell_type": "code",
      "source": [
        "ans = model.predict(sample_review)\n",
        "ans"
      ],
      "metadata": {
        "colab": {
          "base_uri": "https://localhost:8080/"
        },
        "id": "NEnyNanpxt12",
        "outputId": "1073dcb4-4247-49c0-e0a8-c26f5f5638ae"
      },
      "execution_count": null,
      "outputs": [
        {
          "output_type": "execute_result",
          "data": {
            "text/plain": [
              "array([[0.8333976]], dtype=float32)"
            ]
          },
          "metadata": {},
          "execution_count": 440
        }
      ]
    },
    {
      "cell_type": "markdown",
      "source": [
        "Tell weather the sample is positive or negative"
      ],
      "metadata": {
        "id": "vbQT7aVJx1Gu"
      }
    },
    {
      "cell_type": "code",
      "source": [
        "if (0.4 <= ans <= 0.6):\n",
        "    print(\"The review is not too good nor too bad\")\n",
        "if(ans>0.6):\n",
        "    print(\"The review is positive\")\n",
        "elif(ans<0.4):\n",
        "    print(\"The review is negative\")"
      ],
      "metadata": {
        "colab": {
          "base_uri": "https://localhost:8080/"
        },
        "id": "FPDxsOqCxwL_",
        "outputId": "4201e5e5-3e86-41bf-e6b5-636397839bff"
      },
      "execution_count": null,
      "outputs": [
        {
          "output_type": "stream",
          "name": "stdout",
          "text": [
            "The review is positive\n"
          ]
        }
      ]
    },
    {
      "cell_type": "markdown",
      "metadata": {
        "id": "oIZr2uLxkj7F"
      },
      "source": [
        "# Project Code"
      ]
    },
    {
      "cell_type": "markdown",
      "metadata": {
        "id": "VpQWRRaVkj7G"
      },
      "source": [
        "This section puts all of the books into 2 numpy arrays, 1 fore the origional books and 1 for the thined version."
      ]
    },
    {
      "cell_type": "markdown",
      "metadata": {
        "id": "Yy81Dzkgkj7H"
      },
      "source": [
        "This section removes all of the unwanted words from the books and makes the words lowercase."
      ]
    },
    {
      "cell_type": "markdown",
      "metadata": {
        "id": "sbdOjqW6kj7I"
      },
      "source": [
        "How many words and sentances are in the books? and how long would they take to read?"
      ]
    },
    {
      "cell_type": "markdown",
      "metadata": {
        "id": "2b7RMnfjkj7J"
      },
      "source": []
    },
    {
      "cell_type": "markdown",
      "metadata": {
        "id": "y7lOCpFikj7J"
      },
      "source": [
        "# Findings"
      ]
    },
    {
      "cell_type": "markdown",
      "metadata": {
        "id": "eFVuVafrkj7J"
      },
      "source": [
        "# Analysis of results"
      ]
    },
    {
      "cell_type": "markdown",
      "metadata": {
        "id": "joNdQkcNkj7J"
      },
      "source": []
    },
    {
      "cell_type": "markdown",
      "metadata": {
        "id": "EGlJktnpkj7J"
      },
      "source": []
    }
  ],
  "metadata": {
    "colab": {
      "provenance": [],
      "include_colab_link": true
    },
    "kernelspec": {
      "display_name": "Python 3.9.13 ('base')",
      "language": "python",
      "name": "python3"
    },
    "language_info": {
      "codemirror_mode": {
        "name": "ipython",
        "version": 3
      },
      "file_extension": ".py",
      "mimetype": "text/x-python",
      "name": "python",
      "nbconvert_exporter": "python",
      "pygments_lexer": "ipython3",
      "version": "3.9.15"
    },
    "vscode": {
      "interpreter": {
        "hash": "171477609014cceea94aef133bb7309ada38ad52d4bc39cf4203d15bf533d055"
      }
    }
  },
  "nbformat": 4,
  "nbformat_minor": 0
}