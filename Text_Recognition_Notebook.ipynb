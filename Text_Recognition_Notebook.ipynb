{
  "cells": [
    {
      "cell_type": "markdown",
      "metadata": {},
      "source": [
        "*This notebook is part of our text recognition project for class CS345 at Colorado State University.\n",
        "Original versions were created by Zachary Shimpa, Jenelle Dobyns and Jordan Rust.\n",
        "The content is availabe [on GitHub](github.com/ZorkDaNerd/CS345-Text-Recognition).*\n",
        "\n",
        "*Code help and referance was provided from Prof. Asa Ben-Hur and CS 345: Machine Learning Foundations and Practice at Colorado State University.\n",
        "Original versions of these notebooks were created by Asa Ben-Hur with updates by Ross Beveridge.\n",
        "The content is availabe [on his GitHub](https://github.com/asabenhur/CS345).*"
      ]
    },
    {
      "cell_type": "markdown",
      "metadata": {
        "colab_type": "text",
        "id": "view-in-github"
      },
      "source": [
        "<a href=\"https://colab.research.google.com/github/ZorkDaNerd/CS345-Text-Recognition/blob/main/Text_Recognition_Notebook.ipynb\" target=\"_parent\"><img src=\"https://colab.research.google.com/assets/colab-badge.svg\" alt=\"Open In Colab\"/></a>"
      ]
    },
    {
      "cell_type": "markdown",
      "metadata": {},
      "source": [
        "Possible data sets\n",
        "\n",
        "\n",
        "https://www.kaggle.com/datasets/konradb/text-recognition-total-text-dataset\n",
        "\n",
        "\n",
        "https://github.com/topics/text-recognition\n",
        "\n",
        "https://analyticsindiamag.com/10-open-source-datasets-for-text-classification/\n",
        "\n",
        "https://github.com/amephraim/nlp/tree/master/code \n",
        "Dataset from this\n",
        "\n",
        "https://medium.com/mlearning-ai/sentiment-analysis-using-lstm-21767a130857\n",
        "\n",
        "https://en.wikipedia.org/wiki/Sentiment_analysis\n",
        "\n"
      ]
    },
    {
      "cell_type": "markdown",
      "metadata": {},
      "source": [
        "# Description of Project"
      ]
    },
    {
      "cell_type": "markdown",
      "metadata": {},
      "source": [
        "This project is about recognizing text emotions using LSDM. This is a form of natural language processing."
      ]
    },
    {
      "cell_type": "markdown",
      "metadata": {},
      "source": [
        "### Coding languages and packages used in project\n",
        "\n",
        "Ex: Anaconda, Python, ect"
      ]
    },
    {
      "cell_type": "code",
      "execution_count": 117,
      "metadata": {},
      "outputs": [],
      "source": [
        "#Imports\n",
        "import pandas as pd\n",
        "import numpy as np\n",
        "from matplotlib import pyplot as plt\n",
        "import os\n",
        "from glob import glob\n",
        "import tensorflow as tf\n",
        "from tensorflow import keras\n",
        "import string\n",
        "import re"
      ]
    },
    {
      "cell_type": "markdown",
      "metadata": {},
      "source": [
        "# Project Code"
      ]
    },
    {
      "cell_type": "code",
      "execution_count": 118,
      "metadata": {},
      "outputs": [],
      "source": [
        "#Defaults\n",
        "book = []\n",
        "thinBook = []\n",
        "uselessWords = [\"the\", \"and\", \"a\", \"to\", \"of\", \"i\", \"in\", \"a\", \"there\"]"
      ]
    },
    {
      "cell_type": "markdown",
      "metadata": {},
      "source": [
        "This section puts all of the books into 2 numpy arrays, 1 fore the origional books and 1 for the thined version."
      ]
    },
    {
      "cell_type": "code",
      "execution_count": 119,
      "metadata": {},
      "outputs": [],
      "source": [
        "for file in glob('texts\\*.txt'):\n",
        "    book.append(open(file, 'r').read())\n",
        "    thinBook.append(open(file, 'r').read())\n",
        "book = np.array(book)\n",
        "thinBook = np.array(thinBook)"
      ]
    },
    {
      "cell_type": "markdown",
      "metadata": {},
      "source": [
        "This section removes all of the unwanted words from the books and makes the words lowercase."
      ]
    },
    {
      "cell_type": "code",
      "execution_count": 120,
      "metadata": {},
      "outputs": [],
      "source": [
        "for numb in range(len(thinBook)):\n",
        "    thinBook[numb] = thinBook[numb].translate(str.maketrans('', '', string.punctuation)).lower()\n",
        "    editBook = thinBook[numb].split()\n",
        "    thinedBook = [word for word in editBook if word not in uselessWords]\n",
        "    thinBook[numb] = ' '.join(thinedBook) "
      ]
    },
    {
      "cell_type": "markdown",
      "metadata": {},
      "source": [
        "How many words and sentances are in the books? and how long would they take to read?"
      ]
    },
    {
      "cell_type": "code",
      "execution_count": 121,
      "metadata": {},
      "outputs": [
        {
          "name": "stdout",
          "output_type": "stream",
          "text": [
            "Book 1 has 70804 words, 6760 sentences, and will take 6.0 hours to read.\n",
            "Book 2 has 78053 words, 7410 sentences, and will take 7.0 hours to read.\n",
            "Book 3 has 95546 words, 9409 sentences, and will take 8.0 hours to read.\n",
            "Book 4 has 196707 words, 18953 sentences, and will take 17.0 hours to read.\n"
          ]
        }
      ],
      "source": [
        "for numBook in range(len(book)):\n",
        "    wordCont = len(book[numBook].strip().split(\" \"))\n",
        "    sentCont = len(re.split(r'[.!?]+', book[numBook]))\n",
        "    timeRead = np.ceil((wordCont / 200)/60)\n",
        "    print(\"Book \" + str(numBook + 1) + \" has \" + str(wordCont) + \" words, \" + str(sentCont) + \" sentences, and will take \" + str(timeRead) + \" hours to read.\")  "
      ]
    },
    {
      "cell_type": "markdown",
      "metadata": {},
      "source": []
    },
    {
      "cell_type": "markdown",
      "metadata": {},
      "source": [
        "# Findings"
      ]
    },
    {
      "cell_type": "markdown",
      "metadata": {},
      "source": [
        "# Analysis of results"
      ]
    },
    {
      "cell_type": "markdown",
      "metadata": {},
      "source": []
    },
    {
      "cell_type": "markdown",
      "metadata": {},
      "source": []
    }
  ],
  "metadata": {
    "colab": {
      "authorship_tag": "ABX9TyORst63L/8AIM6IicSpLrL2",
      "include_colab_link": true,
      "provenance": []
    },
    "kernelspec": {
      "display_name": "Python 3.9.13 ('base')",
      "language": "python",
      "name": "python3"
    },
    "language_info": {
      "codemirror_mode": {
        "name": "ipython",
        "version": 3
      },
      "file_extension": ".py",
      "mimetype": "text/x-python",
      "name": "python",
      "nbconvert_exporter": "python",
      "pygments_lexer": "ipython3",
      "version": "3.9.15"
    },
    "vscode": {
      "interpreter": {
        "hash": "171477609014cceea94aef133bb7309ada38ad52d4bc39cf4203d15bf533d055"
      }
    }
  },
  "nbformat": 4,
  "nbformat_minor": 0
}
