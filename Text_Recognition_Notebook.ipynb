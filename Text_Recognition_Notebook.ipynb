{
  "cells": [
    {
      "cell_type": "markdown",
      "metadata": {
        "id": "view-in-github",
        "colab_type": "text"
      },
      "source": [
        "<a href=\"https://colab.research.google.com/github/ZorkDaNerd/CS345-Text-Recognition/blob/main/Text_Recognition_Notebook.ipynb\" target=\"_parent\"><img src=\"https://colab.research.google.com/assets/colab-badge.svg\" alt=\"Open In Colab\"/></a>"
      ]
    },
    {
      "cell_type": "markdown",
      "metadata": {
        "id": "varJNv0ukj69"
      },
      "source": [
        "*This notebook is part of our text recognition project for class CS345 at Colorado State University.\n",
        "Original versions were created by Zachary Shimpa, Jenelle Dobyns and Jordan Rust.\n",
        "The content is availabe [on GitHub](github.com/ZorkDaNerd/CS345-Text-Recognition).*\n",
        "\n",
        "*Code help and referance was provided from Prof. Asa Ben-Hur and CS 345: Machine Learning Foundations and Practice at Colorado State University.\n",
        "Original versions of these notebooks were created by Asa Ben-Hur with updates by Ross Beveridge.\n",
        "The content is availabe [on his GitHub](https://github.com/asabenhur/CS345).*"
      ]
    },
    {
      "cell_type": "markdown",
      "metadata": {
        "id": "view-in-github"
      },
      "source": [
        "<a href=\"https://colab.research.google.com/github/ZorkDaNerd/CS345-Text-Recognition/blob/main/Text_Recognition_Notebook.ipynb\" target=\"_parent\"><img src=\"https://colab.research.google.com/assets/colab-badge.svg\" alt=\"Open In Colab\"/></a>"
      ]
    },
    {
      "cell_type": "markdown",
      "metadata": {
        "id": "tuFviogMkj7C"
      },
      "source": [
        "Possible data sets\n",
        "\n",
        "https://github.com/amephraim/nlp/tree/master/code \n",
        "Dataset from this\n",
        "\n",
        "https://medium.com/mlearning-ai/sentiment-analysis-using-lstm-21767a130857\n",
        "\n",
        "https://en.wikipedia.org/wiki/Sentiment_analysis\n",
        "\n"
      ]
    },
    {
      "cell_type": "markdown",
      "metadata": {
        "id": "e9_HZZBhkj7C"
      },
      "source": [
        "# Description of Project"
      ]
    },
    {
      "cell_type": "markdown",
      "source": [],
      "metadata": {
        "id": "IlNExAU1o_xm"
      }
    },
    {
      "cell_type": "markdown",
      "metadata": {
        "id": "6sl6KyJYkj7D"
      },
      "source": [
        "This project is about recognizing text emotions using LSTM. This is a form of natural language processing."
      ]
    },
    {
      "cell_type": "markdown",
      "metadata": {
        "id": "R_bAk2fPkj7D"
      },
      "source": [
        "### Coding languages and packages used in project\n",
        "\n",
        "Ex: Anaconda, Python, ect"
      ]
    },
    {
      "cell_type": "code",
      "execution_count": null,
      "metadata": {
        "id": "5KiYYTwEkj7E"
      },
      "outputs": [],
      "source": [
        "#Import\n",
        "import pandas as pd\n",
        "import numpy as np\n",
        "from matplotlib import pyplot as plt\n",
        "from sklearn.model_selection import train_test_split\n",
        "import os\n",
        "from glob import glob\n",
        "import tensorflow as tf\n",
        "from tensorflow import keras\n",
        "from keras.datasets import imdb\n",
        "from wordcloud import WordCloud,STOPWORDS\n",
        "import string\n",
        "import re"
      ]
    },
    {
      "cell_type": "code",
      "source": [
        "# Let's import our data\n",
        "imdb_data=pd.read_csv(\"https://github.com/ZorkDaNerd/CS345-Text-Recognition/raw/main/Datasets/IMDB%20Dataset/IMDB%20Dataset.csv\")\n",
        "imdb_data.head(10)\n",
        "\n",
        "# Sentiment count - We can see that our data is perfectly balanced\n",
        "# imdb_data['sentiment'].value_counts()"
      ],
      "metadata": {
        "colab": {
          "base_uri": "https://localhost:8080/",
          "height": 363
        },
        "id": "PNvoDKw3p7rA",
        "outputId": "3e861d90-3c9b-4d85-ea06-7d73f20241b3"
      },
      "execution_count": null,
      "outputs": [
        {
          "output_type": "execute_result",
          "data": {
            "text/plain": [
              "                                              review sentiment\n",
              "0  One of the other reviewers has mentioned that ...  positive\n",
              "1  A wonderful little production. <br /><br />The...  positive\n",
              "2  I thought this was a wonderful way to spend ti...  positive\n",
              "3  Basically there's a family where a little boy ...  negative\n",
              "4  Petter Mattei's \"Love in the Time of Money\" is...  positive\n",
              "5  Probably my all-time favorite movie, a story o...  positive\n",
              "6  I sure would like to see a resurrection of a u...  positive\n",
              "7  This show was an amazing, fresh & innovative i...  negative\n",
              "8  Encouraged by the positive comments about this...  negative\n",
              "9  If you like original gut wrenching laughter yo...  positive"
            ],
            "text/html": [
              "\n",
              "  <div id=\"df-c3e97e42-043a-4035-b0c7-81e0e03715db\">\n",
              "    <div class=\"colab-df-container\">\n",
              "      <div>\n",
              "<style scoped>\n",
              "    .dataframe tbody tr th:only-of-type {\n",
              "        vertical-align: middle;\n",
              "    }\n",
              "\n",
              "    .dataframe tbody tr th {\n",
              "        vertical-align: top;\n",
              "    }\n",
              "\n",
              "    .dataframe thead th {\n",
              "        text-align: right;\n",
              "    }\n",
              "</style>\n",
              "<table border=\"1\" class=\"dataframe\">\n",
              "  <thead>\n",
              "    <tr style=\"text-align: right;\">\n",
              "      <th></th>\n",
              "      <th>review</th>\n",
              "      <th>sentiment</th>\n",
              "    </tr>\n",
              "  </thead>\n",
              "  <tbody>\n",
              "    <tr>\n",
              "      <th>0</th>\n",
              "      <td>One of the other reviewers has mentioned that ...</td>\n",
              "      <td>positive</td>\n",
              "    </tr>\n",
              "    <tr>\n",
              "      <th>1</th>\n",
              "      <td>A wonderful little production. &lt;br /&gt;&lt;br /&gt;The...</td>\n",
              "      <td>positive</td>\n",
              "    </tr>\n",
              "    <tr>\n",
              "      <th>2</th>\n",
              "      <td>I thought this was a wonderful way to spend ti...</td>\n",
              "      <td>positive</td>\n",
              "    </tr>\n",
              "    <tr>\n",
              "      <th>3</th>\n",
              "      <td>Basically there's a family where a little boy ...</td>\n",
              "      <td>negative</td>\n",
              "    </tr>\n",
              "    <tr>\n",
              "      <th>4</th>\n",
              "      <td>Petter Mattei's \"Love in the Time of Money\" is...</td>\n",
              "      <td>positive</td>\n",
              "    </tr>\n",
              "    <tr>\n",
              "      <th>5</th>\n",
              "      <td>Probably my all-time favorite movie, a story o...</td>\n",
              "      <td>positive</td>\n",
              "    </tr>\n",
              "    <tr>\n",
              "      <th>6</th>\n",
              "      <td>I sure would like to see a resurrection of a u...</td>\n",
              "      <td>positive</td>\n",
              "    </tr>\n",
              "    <tr>\n",
              "      <th>7</th>\n",
              "      <td>This show was an amazing, fresh &amp; innovative i...</td>\n",
              "      <td>negative</td>\n",
              "    </tr>\n",
              "    <tr>\n",
              "      <th>8</th>\n",
              "      <td>Encouraged by the positive comments about this...</td>\n",
              "      <td>negative</td>\n",
              "    </tr>\n",
              "    <tr>\n",
              "      <th>9</th>\n",
              "      <td>If you like original gut wrenching laughter yo...</td>\n",
              "      <td>positive</td>\n",
              "    </tr>\n",
              "  </tbody>\n",
              "</table>\n",
              "</div>\n",
              "      <button class=\"colab-df-convert\" onclick=\"convertToInteractive('df-c3e97e42-043a-4035-b0c7-81e0e03715db')\"\n",
              "              title=\"Convert this dataframe to an interactive table.\"\n",
              "              style=\"display:none;\">\n",
              "        \n",
              "  <svg xmlns=\"http://www.w3.org/2000/svg\" height=\"24px\"viewBox=\"0 0 24 24\"\n",
              "       width=\"24px\">\n",
              "    <path d=\"M0 0h24v24H0V0z\" fill=\"none\"/>\n",
              "    <path d=\"M18.56 5.44l.94 2.06.94-2.06 2.06-.94-2.06-.94-.94-2.06-.94 2.06-2.06.94zm-11 1L8.5 8.5l.94-2.06 2.06-.94-2.06-.94L8.5 2.5l-.94 2.06-2.06.94zm10 10l.94 2.06.94-2.06 2.06-.94-2.06-.94-.94-2.06-.94 2.06-2.06.94z\"/><path d=\"M17.41 7.96l-1.37-1.37c-.4-.4-.92-.59-1.43-.59-.52 0-1.04.2-1.43.59L10.3 9.45l-7.72 7.72c-.78.78-.78 2.05 0 2.83L4 21.41c.39.39.9.59 1.41.59.51 0 1.02-.2 1.41-.59l7.78-7.78 2.81-2.81c.8-.78.8-2.07 0-2.86zM5.41 20L4 18.59l7.72-7.72 1.47 1.35L5.41 20z\"/>\n",
              "  </svg>\n",
              "      </button>\n",
              "      \n",
              "  <style>\n",
              "    .colab-df-container {\n",
              "      display:flex;\n",
              "      flex-wrap:wrap;\n",
              "      gap: 12px;\n",
              "    }\n",
              "\n",
              "    .colab-df-convert {\n",
              "      background-color: #E8F0FE;\n",
              "      border: none;\n",
              "      border-radius: 50%;\n",
              "      cursor: pointer;\n",
              "      display: none;\n",
              "      fill: #1967D2;\n",
              "      height: 32px;\n",
              "      padding: 0 0 0 0;\n",
              "      width: 32px;\n",
              "    }\n",
              "\n",
              "    .colab-df-convert:hover {\n",
              "      background-color: #E2EBFA;\n",
              "      box-shadow: 0px 1px 2px rgba(60, 64, 67, 0.3), 0px 1px 3px 1px rgba(60, 64, 67, 0.15);\n",
              "      fill: #174EA6;\n",
              "    }\n",
              "\n",
              "    [theme=dark] .colab-df-convert {\n",
              "      background-color: #3B4455;\n",
              "      fill: #D2E3FC;\n",
              "    }\n",
              "\n",
              "    [theme=dark] .colab-df-convert:hover {\n",
              "      background-color: #434B5C;\n",
              "      box-shadow: 0px 1px 3px 1px rgba(0, 0, 0, 0.15);\n",
              "      filter: drop-shadow(0px 1px 2px rgba(0, 0, 0, 0.3));\n",
              "      fill: #FFFFFF;\n",
              "    }\n",
              "  </style>\n",
              "\n",
              "      <script>\n",
              "        const buttonEl =\n",
              "          document.querySelector('#df-c3e97e42-043a-4035-b0c7-81e0e03715db button.colab-df-convert');\n",
              "        buttonEl.style.display =\n",
              "          google.colab.kernel.accessAllowed ? 'block' : 'none';\n",
              "\n",
              "        async function convertToInteractive(key) {\n",
              "          const element = document.querySelector('#df-c3e97e42-043a-4035-b0c7-81e0e03715db');\n",
              "          const dataTable =\n",
              "            await google.colab.kernel.invokeFunction('convertToInteractive',\n",
              "                                                     [key], {});\n",
              "          if (!dataTable) return;\n",
              "\n",
              "          const docLinkHtml = 'Like what you see? Visit the ' +\n",
              "            '<a target=\"_blank\" href=https://colab.research.google.com/notebooks/data_table.ipynb>data table notebook</a>'\n",
              "            + ' to learn more about interactive tables.';\n",
              "          element.innerHTML = '';\n",
              "          dataTable['output_type'] = 'display_data';\n",
              "          await google.colab.output.renderOutput(dataTable, element);\n",
              "          const docLink = document.createElement('div');\n",
              "          docLink.innerHTML = docLinkHtml;\n",
              "          element.appendChild(docLink);\n",
              "        }\n",
              "      </script>\n",
              "    </div>\n",
              "  </div>\n",
              "  "
            ]
          },
          "metadata": {},
          "execution_count": 88
        }
      ]
    },
    {
      "cell_type": "code",
      "source": [
        "import nltk\n",
        "from nltk.corpus import stopwords\n",
        "from nltk.stem.porter import PorterStemmer\n",
        "\n",
        "#removing html tags\n",
        "imdb_data.review=imdb_data.review.str.replace('<[^<]+?>','')\n",
        "\n",
        "#set stopwords to english\n",
        "stop=set(stopwords.words('english'))\n",
        "print(stop)\n",
        "\n",
        "#removing the stopwords\n",
        "from nltk.tokenize.toktok import ToktokTokenizer\n",
        "tokenizer=ToktokTokenizer()\n",
        "\n",
        "#Stemming the text\n",
        "def simple_stemmer(text):\n",
        "    ps=nltk.porter.PorterStemmer()\n",
        "    text= ' '.join([ps.stem(word) for word in text.split()])\n",
        "    return text\n",
        "\n",
        "#Apply function on review column\n",
        "imdb_data['review']=imdb_data['review'].apply(simple_stemmer)\n",
        "\n",
        "def remove_stopwords(text, is_lower_case=False):\n",
        "    tokens = tokenizer.tokenize(text)\n",
        "    tokens = [token.strip() for token in tokens]\n",
        "    if is_lower_case:\n",
        "        filtered_tokens = [token for token in tokens if token not in stop]\n",
        "    else:\n",
        "        filtered_tokens = [token for token in tokens if token.lower() not in stop]\n",
        "    filtered_text = ' '.join(filtered_tokens)    \n",
        "    return filtered_text\n",
        "    \n",
        "#Apply function on review column\n",
        "imdb_data['review']=imdb_data['review'].apply(remove_stopwords)\n",
        "\n",
        "\n",
        "imdb_data.head()"
      ],
      "metadata": {
        "colab": {
          "base_uri": "https://localhost:8080/",
          "height": 280
        },
        "id": "Y8FpbiFf5skY",
        "outputId": "4b040cb6-bbb0-45d0-d066-dfe9576c0be0"
      },
      "execution_count": null,
      "outputs": [
        {
          "output_type": "stream",
          "name": "stderr",
          "text": [
            "<ipython-input-89-2512b5626c76>:6: FutureWarning: The default value of regex will change from True to False in a future version.\n",
            "  imdb_data.review=imdb_data.review.str.replace('<[^<]+?>','')\n"
          ]
        },
        {
          "output_type": "stream",
          "name": "stdout",
          "text": [
            "{'hers', 'couldn', 'we', \"she's\", 'does', 'they', 'why', 'their', 'with', 'me', 'because', 'that', 'no', 'whom', 'do', 'should', 'been', \"won't\", 'again', 'further', 'be', \"couldn't\", 'from', 'shan', 'about', \"you're\", \"wasn't\", 'now', 'to', 'own', 'o', 'each', 'same', 'my', 'ours', 'who', 'which', 'haven', 'once', 'an', \"weren't\", 'theirs', 'needn', 'myself', 'or', 'between', 'not', 'don', \"doesn't\", 'before', 'so', \"shan't\", 's', 'too', 'his', 'isn', 'ourselves', 'm', 'and', 'than', 'during', 'yourself', 'shouldn', 'above', 'by', \"don't\", 'can', 'doing', \"isn't\", 'll', 'there', \"aren't\", \"should've\", 'am', 're', 'your', 'y', \"it's\", 'itself', \"that'll\", 'doesn', 'its', 'below', \"didn't\", 'under', 'him', 'themselves', \"needn't\", 'then', 'how', 'these', 'wouldn', 'being', 'for', 'will', 've', 'has', 'having', 'if', 'here', 'when', 'any', 'few', 'in', 'as', 'did', 'she', 'while', 'very', 'just', 'mustn', 'mightn', 'didn', \"you'd\", 'all', 'down', 'other', 'off', \"haven't\", 'wasn', 'some', 'weren', 'are', 'he', 'up', \"shouldn't\", 'over', 'but', 'd', \"mightn't\", 'her', \"you'll\", 'until', 'nor', 'it', 'this', 'where', \"mustn't\", 'both', 'yours', 'were', 'you', \"wouldn't\", 'after', 'into', 'herself', 'was', 'against', 'the', 'our', 'hasn', 'at', 'won', 'on', 'more', 'is', 'have', 'such', \"hasn't\", \"you've\", 'of', 'aren', 'out', 'through', 'only', 'hadn', 'a', 'them', 'those', 'yourselves', 't', 'himself', 'ain', 'ma', 'most', 'what', 'had', 'i', \"hadn't\"}\n"
          ]
        },
        {
          "output_type": "execute_result",
          "data": {
            "text/plain": [
              "                                              review sentiment\n",
              "0  one review ha mention watch 1 oz episod ' hook...  positive\n",
              "1  wonder littl production. film techniqu veri un...  positive\n",
              "2  thought thi wa wonder way spend time hot summe...  positive\n",
              "3  basic ' famili littl boy ( jake ) think ' zomb...  negative\n",
              "4  petter mattei ' \" love time money \" visual stu...  positive"
            ],
            "text/html": [
              "\n",
              "  <div id=\"df-0392ae98-8d10-471b-981e-1050bca471a9\">\n",
              "    <div class=\"colab-df-container\">\n",
              "      <div>\n",
              "<style scoped>\n",
              "    .dataframe tbody tr th:only-of-type {\n",
              "        vertical-align: middle;\n",
              "    }\n",
              "\n",
              "    .dataframe tbody tr th {\n",
              "        vertical-align: top;\n",
              "    }\n",
              "\n",
              "    .dataframe thead th {\n",
              "        text-align: right;\n",
              "    }\n",
              "</style>\n",
              "<table border=\"1\" class=\"dataframe\">\n",
              "  <thead>\n",
              "    <tr style=\"text-align: right;\">\n",
              "      <th></th>\n",
              "      <th>review</th>\n",
              "      <th>sentiment</th>\n",
              "    </tr>\n",
              "  </thead>\n",
              "  <tbody>\n",
              "    <tr>\n",
              "      <th>0</th>\n",
              "      <td>one review ha mention watch 1 oz episod ' hook...</td>\n",
              "      <td>positive</td>\n",
              "    </tr>\n",
              "    <tr>\n",
              "      <th>1</th>\n",
              "      <td>wonder littl production. film techniqu veri un...</td>\n",
              "      <td>positive</td>\n",
              "    </tr>\n",
              "    <tr>\n",
              "      <th>2</th>\n",
              "      <td>thought thi wa wonder way spend time hot summe...</td>\n",
              "      <td>positive</td>\n",
              "    </tr>\n",
              "    <tr>\n",
              "      <th>3</th>\n",
              "      <td>basic ' famili littl boy ( jake ) think ' zomb...</td>\n",
              "      <td>negative</td>\n",
              "    </tr>\n",
              "    <tr>\n",
              "      <th>4</th>\n",
              "      <td>petter mattei ' \" love time money \" visual stu...</td>\n",
              "      <td>positive</td>\n",
              "    </tr>\n",
              "  </tbody>\n",
              "</table>\n",
              "</div>\n",
              "      <button class=\"colab-df-convert\" onclick=\"convertToInteractive('df-0392ae98-8d10-471b-981e-1050bca471a9')\"\n",
              "              title=\"Convert this dataframe to an interactive table.\"\n",
              "              style=\"display:none;\">\n",
              "        \n",
              "  <svg xmlns=\"http://www.w3.org/2000/svg\" height=\"24px\"viewBox=\"0 0 24 24\"\n",
              "       width=\"24px\">\n",
              "    <path d=\"M0 0h24v24H0V0z\" fill=\"none\"/>\n",
              "    <path d=\"M18.56 5.44l.94 2.06.94-2.06 2.06-.94-2.06-.94-.94-2.06-.94 2.06-2.06.94zm-11 1L8.5 8.5l.94-2.06 2.06-.94-2.06-.94L8.5 2.5l-.94 2.06-2.06.94zm10 10l.94 2.06.94-2.06 2.06-.94-2.06-.94-.94-2.06-.94 2.06-2.06.94z\"/><path d=\"M17.41 7.96l-1.37-1.37c-.4-.4-.92-.59-1.43-.59-.52 0-1.04.2-1.43.59L10.3 9.45l-7.72 7.72c-.78.78-.78 2.05 0 2.83L4 21.41c.39.39.9.59 1.41.59.51 0 1.02-.2 1.41-.59l7.78-7.78 2.81-2.81c.8-.78.8-2.07 0-2.86zM5.41 20L4 18.59l7.72-7.72 1.47 1.35L5.41 20z\"/>\n",
              "  </svg>\n",
              "      </button>\n",
              "      \n",
              "  <style>\n",
              "    .colab-df-container {\n",
              "      display:flex;\n",
              "      flex-wrap:wrap;\n",
              "      gap: 12px;\n",
              "    }\n",
              "\n",
              "    .colab-df-convert {\n",
              "      background-color: #E8F0FE;\n",
              "      border: none;\n",
              "      border-radius: 50%;\n",
              "      cursor: pointer;\n",
              "      display: none;\n",
              "      fill: #1967D2;\n",
              "      height: 32px;\n",
              "      padding: 0 0 0 0;\n",
              "      width: 32px;\n",
              "    }\n",
              "\n",
              "    .colab-df-convert:hover {\n",
              "      background-color: #E2EBFA;\n",
              "      box-shadow: 0px 1px 2px rgba(60, 64, 67, 0.3), 0px 1px 3px 1px rgba(60, 64, 67, 0.15);\n",
              "      fill: #174EA6;\n",
              "    }\n",
              "\n",
              "    [theme=dark] .colab-df-convert {\n",
              "      background-color: #3B4455;\n",
              "      fill: #D2E3FC;\n",
              "    }\n",
              "\n",
              "    [theme=dark] .colab-df-convert:hover {\n",
              "      background-color: #434B5C;\n",
              "      box-shadow: 0px 1px 3px 1px rgba(0, 0, 0, 0.15);\n",
              "      filter: drop-shadow(0px 1px 2px rgba(0, 0, 0, 0.3));\n",
              "      fill: #FFFFFF;\n",
              "    }\n",
              "  </style>\n",
              "\n",
              "      <script>\n",
              "        const buttonEl =\n",
              "          document.querySelector('#df-0392ae98-8d10-471b-981e-1050bca471a9 button.colab-df-convert');\n",
              "        buttonEl.style.display =\n",
              "          google.colab.kernel.accessAllowed ? 'block' : 'none';\n",
              "\n",
              "        async function convertToInteractive(key) {\n",
              "          const element = document.querySelector('#df-0392ae98-8d10-471b-981e-1050bca471a9');\n",
              "          const dataTable =\n",
              "            await google.colab.kernel.invokeFunction('convertToInteractive',\n",
              "                                                     [key], {});\n",
              "          if (!dataTable) return;\n",
              "\n",
              "          const docLinkHtml = 'Like what you see? Visit the ' +\n",
              "            '<a target=\"_blank\" href=https://colab.research.google.com/notebooks/data_table.ipynb>data table notebook</a>'\n",
              "            + ' to learn more about interactive tables.';\n",
              "          element.innerHTML = '';\n",
              "          dataTable['output_type'] = 'display_data';\n",
              "          await google.colab.output.renderOutput(dataTable, element);\n",
              "          const docLink = document.createElement('div');\n",
              "          docLink.innerHTML = docLinkHtml;\n",
              "          element.appendChild(docLink);\n",
              "        }\n",
              "      </script>\n",
              "    </div>\n",
              "  </div>\n",
              "  "
            ]
          },
          "metadata": {},
          "execution_count": 89
        }
      ]
    },
    {
      "cell_type": "code",
      "source": [
        "# Let's convert our data to a numpy array for faster data preprocessing and cleaning\n",
        "imdb_data = np.array(imdb_data)\n",
        "\n",
        "#50,000 rows, 2 columns\n",
        "imdb_data.shape\n",
        "\n",
        "#Access our reviews column\n",
        "imdb_data[:,0]\n",
        "\n",
        "#Access our sentiment column\n",
        "imdb_data[:,1]"
      ],
      "metadata": {
        "colab": {
          "base_uri": "https://localhost:8080/"
        },
        "id": "p7yRXePZ52sx",
        "outputId": "efba15dd-3d59-4603-c792-f7bac4531ba4"
      },
      "execution_count": null,
      "outputs": [
        {
          "output_type": "execute_result",
          "data": {
            "text/plain": [
              "array(['positive', 'positive', 'positive', ..., 'negative', 'negative',\n",
              "       'negative'], dtype=object)"
            ]
          },
          "metadata": {},
          "execution_count": 91
        }
      ]
    },
    {
      "cell_type": "code",
      "source": [
        "# Let's use numpy to remove unneeded punctuation from our dataset that don't contribute to the overall sentiment of our reviews\n",
        "import string\n",
        "\n",
        "# Remove punctuation\n",
        "def remove_punctuation(text):\n",
        "    stripPunct = str.maketrans('', '', string.punctuation)\n",
        "    return np.array([i.translate(stripPunct) for i in text])\n",
        "\n",
        "#Apply function on review column\n",
        "imdb_data[:,0] = remove_punctuation(imdb_data[:,0])\n",
        "\n",
        "imdb_data[:,0]"
      ],
      "metadata": {
        "colab": {
          "base_uri": "https://localhost:8080/"
        },
        "id": "TbjwDZWGq7XL",
        "outputId": "3d875e72-e7ad-4657-ec90-be212317ea3f"
      },
      "execution_count": null,
      "outputs": [
        {
          "output_type": "execute_result",
          "data": {
            "text/plain": [
              "array(['one review ha mention watch 1 oz episod  hooked right  thi exactli happen meth first thing struck oz wa brutal unflinch scene violence  set right word go trust  thi show faint heart timid thi show pull punch regard drugs  sex violence hardcore  classic use wordit call oz nicknam given oswald maximum secur state penitentary focus mainli emerald city  experiment section prison cell glass front face inwards  privaci high agenda em citi home many  aryans  muslims  gangstas  latinos  christians  italians  irish  scuffles  death stares  dodgi deal shadi agreement never far awayi would say main appeal show due fact goe show  dare forget pretti pictur paint mainstream audiences  forget charm  forget romance  oz  mess around first episod ever saw struck nasti wa surreal   say wa readi  watch  develop tast oz  got accustom high level graphic violence violence  injustic  crook guard  sold nickel  inmat  kill order get away  well mannered  middl class inmat turn prison bitch due lack street skill prison experience  watch oz  may becom comfort uncomfort viewing  get touch darker side ',\n",
              "       'wonder littl production film techniqu veri unassuming veri oldtimebbc fashion give comforting  sometim discomforting  sens realism entir piece actor extrem well chosen michael sheen onli  ha got polari  ha voic pat  truli see seamless edit guid refer williams  diari entries  onli well worth watch terrificli written perform piece master product one great master  comedi hi life realism realli come home littl things  fantasi guard  rather use tradit  dream  techniqu remain solid disappears play knowledg senses  particularli scene concern orton halliwel set  particularli flat halliwell  mural decor everi surface  terribl well done ',\n",
              "       'thought thi wa wonder way spend time hot summer weekend  sit air condit theater watch lightheart comedy plot simplistic  dialogu witti charact likabl  even well bread suspect serial killer   may disappoint realiz thi match point 2  risk addiction  thought wa proof woodi allen still fulli control style mani us grown lovethi wa  laugh one woody  comedi year  dare say decade     v never impress scarlet johanson  thi manag tone  sexy  imag jump right average  spirit young womanthi may crown jewel hi career  wa wittier  devil wear prada  interest  superman  great comedi go see friends ',\n",
              "       ...,\n",
              "       'cathol taught parochi elementari school nuns  taught jesuit priest high school amp college still practic cathol would consid  good catholic  church  eye becaus  believ certain thing act certain way becaus church tell toso back movie  bad becaus two peopl kill thi nun suppos satir embodi femal religi figurehead comedi satir done well act dian keaton never saw play wa veri differ thi movi may goodat first thought gun might fake first shoot plan femal lead four former student attempt demonstr sister mary  emot intellectu bigotri faith turn bullet real stori ha tragedy  th tragedi loss life  besid two former students  th live abort babies  life student  mom   tragedi dogmat author love people  tragedi organ religion replac true faith god thi wrong today  islam  yesterday  judaism christianity ',\n",
              "       ' go disagre previou comment side maltin thi one thi second rate  excess viciou western creak groan tri put across central theme wild west tame kick asid steadi march time would like tradit  butch cassidi sundanc kid   lack film  poignanc charm andrew mclaglen  direct limp  final 30 minut real botch  incomprehens strategi part hero charlton heston chri mitchum  someon give holler explain whi set hillsid fire  wa someth callou whole treatment rape scene  woman  reaction afterward certainli ring true coburn plenti nasti half breed escap convict revenge  hi fellow escape underdevelop   r like bowl pin knock one one stori lurch forward   michael park give one hi typic shifty  lethargic  mumbl performances  thi case wa appropri hi modern style sheriff symbol complac technolog progress bring ',\n",
              "       'one expect star trek movi high art  fan expect movi good best episodes unfortunately  thi movi muddled  implaus plot left cring  thi far worst nine  far  movies even chanc watch well known charact interact anoth movi  save thi movi  includ goofi scene kirk  spock mccoy yosemitei would say thi movi worth rental  hardli worth watching  howev true fan need see movies  rent thi movi onli way  see  even cabl channel avoid thi movie '],\n",
              "      dtype=object)"
            ]
          },
          "metadata": {},
          "execution_count": 92
        }
      ]
    },
    {
      "cell_type": "code",
      "source": [
        "# Now that our data is cleaned up, let's make a train/test split 80/20\n",
        "\n",
        "X_train, X_test, y_train, y_test = train_test_split(imdb_data[:,0], imdb_data[:,1], test_size=0.20, random_state=5)"
      ],
      "metadata": {
        "id": "bwM5E1iY9EHk"
      },
      "execution_count": null,
      "outputs": []
    },
    {
      "cell_type": "markdown",
      "metadata": {
        "id": "oIZr2uLxkj7F"
      },
      "source": [
        "# Project Code"
      ]
    },
    {
      "cell_type": "markdown",
      "metadata": {
        "id": "VpQWRRaVkj7G"
      },
      "source": [
        "This section puts all of the books into 2 numpy arrays, 1 fore the origional books and 1 for the thined version."
      ]
    },
    {
      "cell_type": "markdown",
      "metadata": {
        "id": "Yy81Dzkgkj7H"
      },
      "source": [
        "This section removes all of the unwanted words from the books and makes the words lowercase."
      ]
    },
    {
      "cell_type": "markdown",
      "metadata": {
        "id": "sbdOjqW6kj7I"
      },
      "source": [
        "How many words and sentances are in the books? and how long would they take to read?"
      ]
    },
    {
      "cell_type": "markdown",
      "metadata": {
        "id": "2b7RMnfjkj7J"
      },
      "source": []
    },
    {
      "cell_type": "markdown",
      "metadata": {
        "id": "y7lOCpFikj7J"
      },
      "source": [
        "# Findings"
      ]
    },
    {
      "cell_type": "markdown",
      "metadata": {
        "id": "eFVuVafrkj7J"
      },
      "source": [
        "# Analysis of results"
      ]
    },
    {
      "cell_type": "markdown",
      "metadata": {
        "id": "joNdQkcNkj7J"
      },
      "source": []
    },
    {
      "cell_type": "markdown",
      "metadata": {
        "id": "EGlJktnpkj7J"
      },
      "source": []
    }
  ],
  "metadata": {
    "colab": {
      "provenance": [],
      "include_colab_link": true
    },
    "kernelspec": {
      "display_name": "Python 3.9.13 ('base')",
      "language": "python",
      "name": "python3"
    },
    "language_info": {
      "codemirror_mode": {
        "name": "ipython",
        "version": 3
      },
      "file_extension": ".py",
      "mimetype": "text/x-python",
      "name": "python",
      "nbconvert_exporter": "python",
      "pygments_lexer": "ipython3",
      "version": "3.9.15"
    },
    "vscode": {
      "interpreter": {
        "hash": "171477609014cceea94aef133bb7309ada38ad52d4bc39cf4203d15bf533d055"
      }
    }
  },
  "nbformat": 4,
  "nbformat_minor": 0
}