{
  "cells": [
    {
      "cell_type": "markdown",
      "metadata": {
        "id": "view-in-github",
        "colab_type": "text"
      },
      "source": [
        "<a href=\"https://colab.research.google.com/github/ZorkDaNerd/CS345-Text-Recognition/blob/main/Text_Recognition_Notebook.ipynb\" target=\"_parent\"><img src=\"https://colab.research.google.com/assets/colab-badge.svg\" alt=\"Open In Colab\"/></a>"
      ]
    },
    {
      "cell_type": "markdown",
      "metadata": {
        "id": "varJNv0ukj69"
      },
      "source": [
        "*This notebook is part of our text recognition project for class CS345 at Colorado State University.\n",
        "Original versions were created by Zachary Shimpa, Jenelle Dobyns and Jordan Rust.\n",
        "The content is availabe [on GitHub](github.com/ZorkDaNerd/CS345-Text-Recognition).*\n",
        "\n",
        "*Code help and referance was provided from Prof. Asa Ben-Hur and CS 345: Machine Learning Foundations and Practice at Colorado State University.\n",
        "Original versions of these notebooks were created by Asa Ben-Hur with updates by Ross Beveridge.\n",
        "The content is availabe [on his GitHub](https://github.com/asabenhur/CS345).*"
      ]
    },
    {
      "cell_type": "markdown",
      "metadata": {
        "id": "view-in-github"
      },
      "source": [
        "<a href=\"https://colab.research.google.com/github/ZorkDaNerd/CS345-Text-Recognition/blob/main/Text_Recognition_Notebook.ipynb\" target=\"_parent\"><img src=\"https://colab.research.google.com/assets/colab-badge.svg\" alt=\"Open In Colab\"/></a>"
      ]
    },
    {
      "cell_type": "markdown",
      "metadata": {
        "id": "tuFviogMkj7C"
      },
      "source": [
        "Possible data sets\n",
        "\n",
        "https://www.kaggle.com/datasets/lakshmi25npathi/imdb-dataset-of-50k-movie-reviews\n",
        "Dataset from this\n",
        "\n",
        "https://stackoverflow.com/questions/41908379/keras-plot-training-validation-and-test-set-accuracy#:~:text=Just%20a%20small%20addition%3A%20In%20updated%20Keras%20and,to%20plt.plot%20%28history.history%20%5B%27accuracy%27%5D%29%20plt.plot%20%28history.history%20%5B%27val_accuracy%27%5D%29%20%28N.B.\n",
        "\n",
        "https://medium.com/mlearning-ai/sentiment-analysis-using-lstm-21767a130857\n",
        "\n",
        "https://en.wikipedia.org/wiki/Sentiment_analysis\n",
        "\n",
        "https://valueml.com/sentiment-analysis-using-keras\n",
        "\n",
        "https://towardsdatascience.com/sentiment-analysis-on-amazon-reviews-45cd169447ac\n",
        "\n",
        "https://paperswithcode.com/dataset/imdb-movie-reviews\n",
        "\n",
        "https://www.kaggle.com/code/shubhamptrivedi/sentiment-analysis-on-imdb-movie-reviews\n",
        "\n",
        "https://www.kaggle.com/code/sohamdas27/imdb-movie-review-eda-sentiment-analysis\n",
        "\n",
        "https://www.kaggle.com/code/zhangwei20220818/imbd-sentiment-analysis-using-pytorch-lstm\n",
        "\n",
        "https://www.kaggle.com/code/vincentman0403/sentimental-analysis-on-imdb-by-lstm\n",
        "\n",
        "https://www.kaggle.com/code/drscarlat/imdb-sentiment-analysis-keras-and-tensorflow/notebook"
      ]
    },
    {
      "cell_type": "markdown",
      "metadata": {
        "id": "e9_HZZBhkj7C"
      },
      "source": [
        "# Description of Project"
      ]
    },
    {
      "cell_type": "markdown",
      "metadata": {
        "id": "IlNExAU1o_xm"
      },
      "source": [
        "This project is about comparing sentiment analysis accuracy between LSTM, SVM, logistic regression, and random forest classification models. This is a form of natural language processing.\n",
        "\n",
        "We will be using an IMDB review dataset with 50,000 reviews and classification as either 'positive' or 'negative'.\n"
      ]
    },
    {
      "cell_type": "markdown",
      "metadata": {
        "id": "R_bAk2fPkj7D"
      },
      "source": [
        "### Coding languages and packages used in project\n",
        "\n",
        "Language: Python\n",
        "\n",
        "ML libraries: Tensorflow, Keras"
      ]
    },
    {
      "cell_type": "markdown",
      "metadata": {
        "id": "hp7JaaH6vmsI"
      },
      "source": [
        "Imports"
      ]
    },
    {
      "cell_type": "code",
      "execution_count": null,
      "metadata": {
        "id": "5KiYYTwEkj7E"
      },
      "outputs": [],
      "source": [
        "import pandas as pd\n",
        "import numpy as np\n",
        "from matplotlib import pyplot as plt\n",
        "from sklearn.model_selection import train_test_split\n",
        "import os\n",
        "from glob import glob\n",
        "import tensorflow as tf\n",
        "from tensorflow import keras\n",
        "from keras.datasets import imdb\n",
        "from wordcloud import WordCloud,STOPWORDS\n",
        "import string\n",
        "import re"
      ]
    },
    {
      "cell_type": "markdown",
      "metadata": {
        "id": "Cl4wxGeZvhPR"
      },
      "source": [
        "Let's import our data"
      ]
    },
    {
      "cell_type": "code",
      "execution_count": null,
      "metadata": {
        "colab": {
          "base_uri": "https://localhost:8080/"
        },
        "id": "PNvoDKw3p7rA",
        "outputId": "9e0ec0c4-5d5b-4c51-8277-8607a5de4278"
      },
      "outputs": [
        {
          "name": "stdout",
          "output_type": "stream",
          "text": [
            "                                              review sentiment\n",
            "0  One of the other reviewers has mentioned that ...  positive\n",
            "1  A wonderful little production. <br /><br />The...  positive\n",
            "2  I thought this was a wonderful way to spend ti...  positive\n",
            "3  Basically there's a family where a little boy ...  negative\n",
            "4  Petter Mattei's \"Love in the Time of Money\" is...  positive\n",
            "5  Probably my all-time favorite movie, a story o...  positive\n",
            "6  I sure would like to see a resurrection of a u...  positive\n",
            "7  This show was an amazing, fresh & innovative i...  negative\n",
            "8  Encouraged by the positive comments about this...  negative\n",
            "9  If you like original gut wrenching laughter yo...  positive\n",
            "positive    25000\n",
            "negative    25000\n",
            "Name: sentiment, dtype: int64\n"
          ]
        }
      ],
      "source": [
        "imdb_data=pd.read_csv(\"https://github.com/ZorkDaNerd/CS345-Text-Recognition/raw/main/Datasets/IMDB%20Dataset/IMDB%20Dataset.csv\")\n",
        "\n",
        "# Let's see what our data looks like\n",
        "print(imdb_data.head(10))\n",
        "\n",
        "# Sentiment count - We can see that our data is perfectly balanced\n",
        "print(imdb_data['sentiment'].value_counts())"
      ]
    },
    {
      "cell_type": "markdown",
      "metadata": {
        "id": "tGPQcebKvbg7"
      },
      "source": [
        "Time to clean up our data a bit! We can see we have lots of punctuation and characters as well as HTML tags. Let's do some housekeeping."
      ]
    },
    {
      "cell_type": "code",
      "execution_count": null,
      "metadata": {
        "colab": {
          "base_uri": "https://localhost:8080/",
          "height": 261
        },
        "id": "Y8FpbiFf5skY",
        "outputId": "f42c5a86-1cb4-4f52-f016-5237b75c7856"
      },
      "outputs": [
        {
          "name": "stderr",
          "output_type": "stream",
          "text": [
            "C:\\Users\\9898z\\AppData\\Local\\Temp\\ipykernel_32216\\3064731751.py:8: FutureWarning: The default value of regex will change from True to False in a future version.\n",
            "  imdb_data.review=imdb_data.review.str.replace('<[^<]+?>','')\n"
          ]
        },
        {
          "data": {
            "text/html": [
              "<div>\n",
              "<style scoped>\n",
              "    .dataframe tbody tr th:only-of-type {\n",
              "        vertical-align: middle;\n",
              "    }\n",
              "\n",
              "    .dataframe tbody tr th {\n",
              "        vertical-align: top;\n",
              "    }\n",
              "\n",
              "    .dataframe thead th {\n",
              "        text-align: right;\n",
              "    }\n",
              "</style>\n",
              "<table border=\"1\" class=\"dataframe\">\n",
              "  <thead>\n",
              "    <tr style=\"text-align: right;\">\n",
              "      <th></th>\n",
              "      <th>review</th>\n",
              "      <th>sentiment</th>\n",
              "    </tr>\n",
              "  </thead>\n",
              "  <tbody>\n",
              "    <tr>\n",
              "      <th>0</th>\n",
              "      <td>one review mention watch 1 oz episod ' hooked....</td>\n",
              "      <td>positive</td>\n",
              "    </tr>\n",
              "    <tr>\n",
              "      <th>1</th>\n",
              "      <td>wonder littl production. film techniqu unassum...</td>\n",
              "      <td>positive</td>\n",
              "    </tr>\n",
              "    <tr>\n",
              "      <th>2</th>\n",
              "      <td>thought wonder way spend time hot summer weeke...</td>\n",
              "      <td>positive</td>\n",
              "    </tr>\n",
              "    <tr>\n",
              "      <th>3</th>\n",
              "      <td>basic ' famili littl boy ( jake ) think ' zomb...</td>\n",
              "      <td>negative</td>\n",
              "    </tr>\n",
              "    <tr>\n",
              "      <th>4</th>\n",
              "      <td>petter mattei ' \" love time money \" visual stu...</td>\n",
              "      <td>positive</td>\n",
              "    </tr>\n",
              "  </tbody>\n",
              "</table>\n",
              "</div>"
            ],
            "text/plain": [
              "                                              review sentiment\n",
              "0  one review mention watch 1 oz episod ' hooked....  positive\n",
              "1  wonder littl production. film techniqu unassum...  positive\n",
              "2  thought wonder way spend time hot summer weeke...  positive\n",
              "3  basic ' famili littl boy ( jake ) think ' zomb...  negative\n",
              "4  petter mattei ' \" love time money \" visual stu...  positive"
            ]
          },
          "execution_count": 20,
          "metadata": {},
          "output_type": "execute_result"
        }
      ],
      "source": [
        "# Importing \n",
        "import nltk\n",
        "from nltk.corpus import stopwords\n",
        "from nltk.stem.porter import PorterStemmer\n",
        "from nltk.tokenize.toktok import ToktokTokenizer\n",
        "\n",
        " # Removing html tags - this can't be done in numpy as we need to remove what's between the tags as well\n",
        "imdb_data.review=imdb_data.review.str.replace('<[^<]+?>','')\n",
        "\n",
        "# Our stopwords are words that don't contribute to word sentiment ('and','or', etc.). Set stopwords to english:\n",
        "stop = set(stopwords.words('english'))\n",
        "\n",
        "# Removing the stopwords from our array\n",
        "tokenizer=ToktokTokenizer()\n",
        "\n",
        "def remove_stopwords(text, is_lower_case=False):\n",
        "    #Tokenizing separates all of our words into their own bucket\n",
        "    tokens = tokenizer.tokenize(text)\n",
        "    tokens = [token.strip() for token in tokens] \n",
        "\n",
        "    if is_lower_case:\n",
        "        filtered_tokens = [token for token in tokens if token not in stop]\n",
        "    else:\n",
        "        filtered_tokens = [token for token in tokens if token.lower() not in stop]\n",
        "    filtered_text = ' '.join(filtered_tokens)    \n",
        "    return filtered_text\n",
        "    \n",
        "#Apply remove_stopwords on review column\n",
        "imdb_data['review'] = imdb_data['review'].apply(remove_stopwords).str.lower()\n",
        "\n",
        "# Our stemming function will return us just the root of our words - i.g. 'stayed' and 'staying' both become 'stay'\n",
        "ps = PorterStemmer()\n",
        "def stem(text):\n",
        "    L=[]\n",
        "    for i in text.split():\n",
        "        L.append(ps.stem(i))\n",
        "        \n",
        "        \n",
        "    string=\" \".join(L)    \n",
        "    return string\n",
        "\n",
        "\n",
        "imdb_data['review'] = imdb_data['review'].apply(stem)\n",
        "\n",
        "# Let's see what we have!\n",
        "imdb_data.head()"
      ]
    },
    {
      "cell_type": "markdown",
      "metadata": {
        "id": "oaFZVEfAzJm8"
      },
      "source": [
        "Let's convert our data to a numpy array for faster data preprocessing and cleaning"
      ]
    },
    {
      "cell_type": "code",
      "execution_count": null,
      "metadata": {
        "colab": {
          "base_uri": "https://localhost:8080/"
        },
        "id": "p7yRXePZ52sx",
        "outputId": "1313af59-bbb7-4127-e2f9-b66593cc60d8"
      },
      "outputs": [
        {
          "data": {
            "text/plain": [
              "array(['positive', 'positive', 'positive', ..., 'negative', 'negative',\n",
              "       'negative'], dtype=object)"
            ]
          },
          "execution_count": 21,
          "metadata": {},
          "output_type": "execute_result"
        }
      ],
      "source": [
        "imdb_data = np.array(imdb_data)\n",
        "\n",
        "#50,000 rows, 2 columns\n",
        "imdb_data.shape\n",
        "\n",
        "#Access our reviews column\n",
        "imdb_data[:,0]\n",
        "\n",
        "#Access our sentiment column\n",
        "imdb_data[:,1]"
      ]
    },
    {
      "cell_type": "markdown",
      "metadata": {
        "id": "rlMh593avSmh"
      },
      "source": [
        "Let's use numpy to remove unneeded punctuation from our dataset that don't contribute to the overall sentiment of our reviews"
      ]
    },
    {
      "cell_type": "code",
      "execution_count": null,
      "metadata": {
        "id": "TbjwDZWGq7XL"
      },
      "outputs": [],
      "source": [
        "def remove_punctuation(text):\n",
        "    stripPunct = str.maketrans('', '', string.punctuation)\n",
        "    return np.array([i.translate(stripPunct) for i in text])\n",
        "\n",
        "def sentiment_to_bool(text):\n",
        "    text[text == 'positive'] = 1\n",
        "    text[text == 'negative'] = 0\n",
        "    return text\n",
        "\n",
        "#Apply functions on review column\n",
        "imdb_data[:,0] = remove_punctuation(imdb_data[:,0])\n",
        "imdb_data[:,1] = sentiment_to_bool(imdb_data[:,1])"
      ]
    },
    {
      "cell_type": "markdown",
      "metadata": {
        "id": "k-TW_zPku4VD"
      },
      "source": [
        "Define X and y"
      ]
    },
    {
      "cell_type": "code",
      "execution_count": null,
      "metadata": {
        "id": "bwM5E1iY9EHk"
      },
      "outputs": [],
      "source": [
        "X = imdb_data[:,0]\n",
        "\n",
        "imdb_data[:,1] = imdb_data[:,1].astype(str).astype(int) # We want our y values to be ints\n",
        "\n",
        "y = imdb_data[:,1]"
      ]
    },
    {
      "cell_type": "markdown",
      "metadata": {
        "id": "O1O8afKmu9Sn"
      },
      "source": [
        "Now that our data is cleaned up, let's make a train/test split 80/20"
      ]
    },
    {
      "cell_type": "code",
      "execution_count": null,
      "metadata": {
        "id": "qpxqbsTXu-aR"
      },
      "outputs": [],
      "source": [
        "X_train, X_test, y_train, y_test = train_test_split(X, y, test_size=0.20, random_state=5)"
      ]
    },
    {
      "cell_type": "markdown",
      "metadata": {
        "id": "BJkJ0pUQvDif"
      },
      "source": [
        "We convert the words into numbers for the LSTM to process. This is done by first tokenizing each words as numbers (with a maximum of 5000 words), then using text_to_word_sequence  on both our train and test sets."
      ]
    },
    {
      "cell_type": "code",
      "execution_count": null,
      "metadata": {
        "colab": {
          "base_uri": "https://localhost:8080/"
        },
        "id": "u9ZspcGpogkG",
        "outputId": "39088688-c011-4681-8183-9426b848343d"
      },
      "outputs": [
        {
          "name": "stdout",
          "output_type": "stream",
          "text": [
            "excel reason edison went straight video  would land theater crumbl thud movi last entir long peril boring notch lowbrow  thank freeman spacey  obvious spare two week next film   bad guy laughabl action near nonexist justin timberlak  acting hate knock guy  sooner realiz pop fort  betterth movi  bad  mostly like fact cool j given appear shot lead man deserv it  unlik fellow musician costar  act kevin spacey almost alway enjoy well  see gulp sever time chew sceneri   freeman abil elev flick three star  ten   good  when said done  ultim error movi mundan tiresom piec pseudoact poppycock fail keep anyon awake also fail make anyon give good crap characters   plain boring said  rent suffer insomnia \n",
            "[240, 138, 337, 706, 299, 13, 843, 545, 2, 132, 252, 116, 1534, 2863, 477, 2838, 3995, 430, 2475, 41, 835, 301, 1, 22, 72, 1256, 113, 684, 3023, 2907, 1148, 420, 1750, 72, 4529, 421, 1014, 4859, 2, 22, 4, 95, 497, 2297, 281, 184, 151, 173, 57, 460, 60, 630, 1346, 2680, 2489, 32, 1504, 3995, 136, 127, 77, 17, 9, 310, 6, 3548, 1269, 2838, 1009, 2621, 335, 200, 88, 646, 5, 215, 143, 758, 2580, 2, 4014, 4579, 277, 383, 179, 175, 26, 383, 7, 175, 55, 5, 535, 799, 890, 1534, 215, 419, 745]\n"
          ]
        }
      ],
      "source": [
        "print(X_train[0]) # Data before conversion\n",
        "\n",
        "from keras.preprocessing.text import Tokenizer    \n",
        "from keras.preprocessing.text import text_to_word_sequence \n",
        "tokenizer = Tokenizer(num_words=5000)\n",
        "tokenizer.fit_on_texts(X_train)\n",
        "X_train_vector = tokenizer.texts_to_sequences(X_train)\n",
        "X_test_vector = tokenizer.texts_to_sequences(X_test)\n",
        "\n",
        "print(X_train_vector[0]) # Data after conversion"
      ]
    },
    {
      "cell_type": "markdown",
      "metadata": {
        "id": "DKSpQgFLvM9c"
      },
      "source": [
        "Now we're going to normalize our data by making each review have the same number of elements (50). We'll be truncating reviews that have over 50 elements and pading reviews with under 50 elements."
      ]
    },
    {
      "cell_type": "code",
      "execution_count": null,
      "metadata": {
        "colab": {
          "base_uri": "https://localhost:8080/"
        },
        "id": "mpqfhHmBoSC8",
        "outputId": "ea5d660c-1316-4691-81a7-e3695c44de94"
      },
      "outputs": [
        {
          "name": "stdout",
          "output_type": "stream",
          "text": [
            "[ 460   60  630 1346 2680 2489   32 1504 3995  136  127   77   17    9\n",
            "  310    6 3548 1269 2838 1009 2621  335  200   88  646    5  215  143\n",
            "  758 2580    2 4014 4579  277  383  179  175   26  383    7  175   55\n",
            "    5  535  799  890 1534  215  419  745]\n",
            "[   6  454 2754    2  273  562   51   58   23    8  627  166  340  161\n",
            "  447   72  476   29  148   45 1459  681 2161   23   45  132  181    2\n",
            "  170  469  162  448   25   60  595   38  578 1451  332   63 1019  937\n",
            "    1    4    3   67  547  669 1095  213]\n"
          ]
        }
      ],
      "source": [
        "from keras.utils import pad_sequences\n",
        "lenRev = 50\n",
        "X_train_vector = pad_sequences(X_train_vector, padding='post', maxlen=lenRev)\n",
        "X_test_vector = pad_sequences(X_test_vector, padding='post', maxlen=lenRev)\n",
        "\n",
        "print(X_train_vector[0]) # Let's verify that a review over 50 words gets truncated to 50\n",
        "print(X_train_vector[4]) # Let's verify that a review under 50 words gets padding added at the end"
      ]
    },
    {
      "cell_type": "markdown",
      "metadata": {
        "id": "tpgL6rEYuy7j"
      },
      "source": [
        "Now we'll convert our train and test sets to tensor objects so the keras is able to analyze it."
      ]
    },
    {
      "cell_type": "code",
      "execution_count": null,
      "metadata": {
        "id": "BvXK_8DRUMSH"
      },
      "outputs": [],
      "source": [
        "X_train_vector_tensor = tf.convert_to_tensor(X_train_vector)\n",
        "X_test_vector_tensor = tf.convert_to_tensor(X_test_vector)\n",
        "y_train_tensor = tf.convert_to_tensor(y_train, dtype=tf.int32)\n",
        "y_test_tensor = tf.convert_to_tensor(y_test, dtype=tf.int32)"
      ]
    },
    {
      "cell_type": "markdown",
      "metadata": {
        "id": "QeBX2WcsurjR"
      },
      "source": [
        "Initializing the keras LSTM model"
      ]
    },
    {
      "cell_type": "code",
      "execution_count": null,
      "metadata": {
        "colab": {
          "base_uri": "https://localhost:8080/"
        },
        "id": "mzanRFwKXn-O",
        "outputId": "be1cdc84-3630-4dc3-f957-b0cb9306c7e0"
      },
      "outputs": [
        {
          "name": "stdout",
          "output_type": "stream",
          "text": [
            "Model: \"sequential\"\n",
            "_________________________________________________________________\n",
            " Layer (type)                Output Shape              Param #   \n",
            "=================================================================\n",
            " embedding (Embedding)       (None, None, 17)          170000    \n",
            "                                                                 \n",
            " global_average_pooling1d (G  (None, 17)               0         \n",
            " lobalAveragePooling1D)                                          \n",
            "                                                                 \n",
            " dense (Dense)               (None, 17)                306       \n",
            "                                                                 \n",
            " dense_1 (Dense)             (None, 12)                216       \n",
            "                                                                 \n",
            " dense_2 (Dense)             (None, 1)                 13        \n",
            "                                                                 \n",
            "=================================================================\n",
            "Total params: 170,535\n",
            "Trainable params: 170,535\n",
            "Non-trainable params: 0\n",
            "_________________________________________________________________\n"
          ]
        }
      ],
      "source": [
        "from keras.models import Sequential\n",
        "from keras.layers import Dense, Embedding, GlobalAveragePooling1D\n",
        "from keras import backend as K\n",
        "from keras.optimizers import Adam\n",
        "from keras.layers import Dropout\n",
        "\n",
        "model = Sequential([Embedding(10000, 17), \n",
        "                   GlobalAveragePooling1D(),\n",
        "                   Dense(17,activation = \"relu\"),\n",
        "                   Dense(12,activation = \"relu\"),\n",
        "                   Dense(1,activation = \"sigmoid\")])\n",
        "\n",
        "\n",
        "myoptimizer = tf.keras.optimizers.Adam(learning_rate = 0.0001)\n",
        "model.compile(\n",
        "    loss = \"binary_crossentropy\",\n",
        "    optimizer = myoptimizer,\n",
        "    metrics = [\"accuracy\"])\n",
        "model.summary()"
      ]
    },
    {
      "cell_type": "markdown",
      "metadata": {
        "id": "Y45d2gm-vvZN"
      },
      "source": [
        "Fit to the LSTM keras model"
      ]
    },
    {
      "cell_type": "code",
      "execution_count": null,
      "metadata": {
        "colab": {
          "base_uri": "https://localhost:8080/"
        },
        "id": "sxy-Bt5GMcSG",
        "outputId": "56d59959-3b9c-4dfd-f39b-1ddf74e3e3d0"
      },
      "outputs": [
        {
          "name": "stdout",
          "output_type": "stream",
          "text": [
            "Epoch 1/10\n",
            "1600/1600 [==============================] - 5s 3ms/step - loss: 0.6500 - accuracy: 0.7369 - val_loss: 0.5464 - val_accuracy: 0.8290\n",
            "Epoch 2/10\n",
            "1600/1600 [==============================] - 4s 3ms/step - loss: 0.4328 - accuracy: 0.8444 - val_loss: 0.3647 - val_accuracy: 0.8497\n",
            "Epoch 3/10\n",
            "1600/1600 [==============================] - 4s 3ms/step - loss: 0.3321 - accuracy: 0.8623 - val_loss: 0.3332 - val_accuracy: 0.8594\n",
            "Epoch 4/10\n",
            "1600/1600 [==============================] - 4s 3ms/step - loss: 0.3037 - accuracy: 0.8732 - val_loss: 0.3266 - val_accuracy: 0.8632\n",
            "Epoch 5/10\n",
            "1600/1600 [==============================] - 4s 3ms/step - loss: 0.2889 - accuracy: 0.8806 - val_loss: 0.3247 - val_accuracy: 0.8635\n",
            "Epoch 6/10\n",
            "1600/1600 [==============================] - 4s 3ms/step - loss: 0.2791 - accuracy: 0.8856 - val_loss: 0.3256 - val_accuracy: 0.8640\n",
            "Epoch 7/10\n",
            "1600/1600 [==============================] - 4s 3ms/step - loss: 0.2718 - accuracy: 0.8878 - val_loss: 0.3276 - val_accuracy: 0.8615\n",
            "Epoch 8/10\n",
            "1600/1600 [==============================] - 5s 3ms/step - loss: 0.2661 - accuracy: 0.8919 - val_loss: 0.3301 - val_accuracy: 0.8614\n",
            "Epoch 9/10\n",
            "1600/1600 [==============================] - 4s 3ms/step - loss: 0.2616 - accuracy: 0.8927 - val_loss: 0.3333 - val_accuracy: 0.8584\n",
            "Epoch 10/10\n",
            "1600/1600 [==============================] - 4s 3ms/step - loss: 0.2578 - accuracy: 0.8954 - val_loss: 0.3366 - val_accuracy: 0.8581\n"
          ]
        }
      ],
      "source": [
        "history = model.fit(X_train_vector_tensor, y_train_tensor, validation_data=(X_test_vector_tensor, y_test_tensor), epochs=10, verbose = 1, shuffle = True, batch_size = 25)\n"
      ]
    },
    {
      "cell_type": "markdown",
      "metadata": {
        "id": "oHQowYNj0kxG"
      },
      "source": [
        "Calculate the accuracy for our LSTM model on our test set."
      ]
    },
    {
      "cell_type": "code",
      "execution_count": null,
      "metadata": {
        "colab": {
          "base_uri": "https://localhost:8080/"
        },
        "id": "8QBf4EboruPP",
        "outputId": "4b4a7518-0c82-4c8b-bd12-a29e52b8a6fe"
      },
      "outputs": [
        {
          "name": "stdout",
          "output_type": "stream",
          "text": [
            "313/313 [==============================] - 1s 1ms/step - loss: 0.3366 - accuracy: 0.8581\n",
            "Accuracy is :  85.80999970436096\n"
          ]
        }
      ],
      "source": [
        "loss, accuracy = model.evaluate(X_test_vector_tensor, y_test_tensor)\n",
        "print(\"Accuracy is : \", accuracy*100)"
      ]
    },
    {
      "cell_type": "markdown",
      "metadata": {
        "id": "ZOdLd82zU3NT"
      },
      "source": [
        "# Model accuracy/loss plots\n",
        "\n"
      ]
    },
    {
      "cell_type": "markdown",
      "metadata": {
        "id": "ydvPpWgKVNTK"
      },
      "source": [
        "Here are the plots of our model accuracy and model loss as a function of number of epochs."
      ]
    },
    {
      "cell_type": "code",
      "execution_count": null,
      "metadata": {
        "colab": {
          "base_uri": "https://localhost:8080/",
          "height": 295
        },
        "id": "Mg_8C479zR5J",
        "outputId": "8769bfd1-e508-4af3-9ac4-e7314e6de2cf"
      },
      "outputs": [
        {
          "data": {
            "image/png": "[encoded data removed]",
            "text/plain": [
              "<Figure size 640x480 with 1 Axes>"
            ]
          },
          "metadata": {},
          "output_type": "display_data"
        }
      ],
      "source": [
        "plt.plot(history.history['accuracy'])\n",
        "plt.plot(history.history['val_accuracy'])\n",
        "plt.title('model accuracy')\n",
        "plt.ylabel('accuracy')\n",
        "plt.xlabel('epoch')\n",
        "plt.legend(['train', 'val'], loc='upper left')\n",
        "plt.show()"
      ]
    },
    {
      "cell_type": "code",
      "execution_count": null,
      "metadata": {
        "colab": {
          "base_uri": "https://localhost:8080/",
          "height": 295
        },
        "id": "KYmhHpuEz4RB",
        "outputId": "b44df6fe-c0c4-40b3-92a9-6081078c7eff"
      },
      "outputs": [
        {
          "data": {
            "image/png": "[encoded data removed]",
            "text/plain": [
              "<Figure size 640x480 with 1 Axes>"
            ]
          },
          "metadata": {},
          "output_type": "display_data"
        }
      ],
      "source": [
        "plt.plot(history.history['loss'])\n",
        "plt.plot(history.history['val_loss'])\n",
        "plt.title('model loss')\n",
        "plt.ylabel('loss')\n",
        "plt.xlabel('epoch')\n",
        "plt.legend(['train', 'val'], loc='upper left')\n",
        "plt.show()"
      ]
    },
    {
      "cell_type": "markdown",
      "metadata": {
        "id": "ZQTmGtBDyIqA"
      },
      "source": [
        "# Test the model"
      ]
    },
    {
      "cell_type": "code",
      "execution_count": null,
      "metadata": {
        "colab": {
          "base_uri": "https://localhost:8080/"
        },
        "id": "ymegteEmv8HI",
        "outputId": "2717f957-a683-4b96-96e6-09cb763e8e04"
      },
      "outputs": [
        {
          "data": {
            "text/plain": [
              "['product', 'terrifying', 'awful']"
            ]
          },
          "execution_count": 33,
          "metadata": {},
          "output_type": "execute_result"
        }
      ],
      "source": [
        "sample = \"The product was very terrifying and awful.\"  # Change this to your own custom input to see how the prediction changes!\n",
        "sample = sample.translate(str.maketrans('', '', string.punctuation)).lower()\n",
        "sample = sample.split()\n",
        "sample = [word for word in sample if word not in stop]\n",
        "sample"
      ]
    },
    {
      "cell_type": "markdown",
      "metadata": {
        "id": "kRaoqQA1yAE0"
      },
      "source": [
        "Tokenize the sample to numbers"
      ]
    },
    {
      "cell_type": "code",
      "execution_count": null,
      "metadata": {
        "id": "7pEPOS4txfZo"
      },
      "outputs": [],
      "source": [
        "sample = tokenizer.texts_to_sequences(sample)\n",
        "sample\n",
        "simple_list = []\n",
        "for sublist in sample:\n",
        "    for item in sublist:\n",
        "        simple_list.append(item)\n",
        "simple_list = [simple_list]\n",
        "sample_review = pad_sequences(simple_list, padding='post', maxlen=lenRev)"
      ]
    },
    {
      "cell_type": "markdown",
      "metadata": {
        "id": "WeON3Sc8x7Yh"
      },
      "source": [
        "Predict the sample"
      ]
    },
    {
      "cell_type": "code",
      "execution_count": null,
      "metadata": {
        "colab": {
          "base_uri": "https://localhost:8080/"
        },
        "id": "NEnyNanpxt12",
        "outputId": "91d49be0-af21-45cf-ad04-3794507cb9d9"
      },
      "outputs": [
        {
          "name": "stdout",
          "output_type": "stream",
          "text": [
            "1/1 [==============================] - 0s 96ms/step\n"
          ]
        },
        {
          "data": {
            "text/plain": [
              "array([[0.16750011]], dtype=float32)"
            ]
          },
          "execution_count": 35,
          "metadata": {},
          "output_type": "execute_result"
        }
      ],
      "source": [
        "ans = model.predict(sample_review)\n",
        "ans"
      ]
    },
    {
      "cell_type": "markdown",
      "metadata": {
        "id": "vbQT7aVJx1Gu"
      },
      "source": [
        "Tell whether the sample is positive or negative"
      ]
    },
    {
      "cell_type": "code",
      "execution_count": null,
      "metadata": {
        "colab": {
          "base_uri": "https://localhost:8080/"
        },
        "id": "FPDxsOqCxwL_",
        "outputId": "3dde2346-4d11-452d-f944-a0df4a12302c"
      },
      "outputs": [
        {
          "name": "stdout",
          "output_type": "stream",
          "text": [
            "The review is negative\n"
          ]
        }
      ],
      "source": [
        "if (0.4 <= ans <= 0.6):\n",
        "    print(\"The review is not too good nor too bad\")\n",
        "if(ans>0.6):\n",
        "    print(\"The review is positive\")\n",
        "elif(ans<0.4):\n",
        "    print(\"The review is negative\")"
      ]
    },
    {
      "cell_type": "markdown",
      "metadata": {
        "id": "0f3kzSLbV3Di"
      },
      "source": [
        "# Part 2: SVM/Logistic Regression/Random Forest\n",
        "\n",
        "For this section, we're going to re-vectorize our original dataframe using the tf-idf approach for each word in our reviews and sic simpler, non-neural network classifiers on them.\n",
        "\n",
        "TF-IDF stands for Term Frequency-Inverse Document Frequency.\n",
        "\n",
        "It is meant to determine how important a word is to a review. For each word, it takes the frequency of that term in each review and compares it to the number of reviews that have that term to decide how important each word is. Words with a higher TF-IDF score are more important.\n",
        "\n",
        "First, let's do some importing."
      ]
    },
    {
      "cell_type": "code",
      "execution_count": null,
      "metadata": {
        "id": "9jNcjFzpV7Ix"
      },
      "outputs": [],
      "source": [
        "from sklearn.metrics import classification_report,confusion_matrix,accuracy_score\n",
        "import seaborn as sns\n",
        "from sklearn.feature_extraction.text import TfidfVectorizer\n",
        "from sklearn.svm import SVC\n",
        "from sklearn.linear_model import LogisticRegression\n",
        "from sklearn.ensemble import RandomForestClassifier"
      ]
    },
    {
      "cell_type": "markdown",
      "metadata": {
        "id": "IgKzhEnXV-Qx"
      },
      "source": [
        "Now we'll vectorize our data using the TF-IDF approach."
      ]
    },
    {
      "cell_type": "code",
      "execution_count": null,
      "metadata": {
        "colab": {
          "base_uri": "https://localhost:8080/"
        },
        "id": "Y8FjgaUWV9lR",
        "outputId": "5ddf3170-96f4-4faa-aff2-c354d5ebfef4"
      },
      "outputs": [
        {
          "data": {
            "text/plain": [
              "(50000, 5000)"
            ]
          },
          "execution_count": 38,
          "metadata": {},
          "output_type": "execute_result"
        }
      ],
      "source": [
        "# Let's use the tf-idf approach to vectorize our data\n",
        "\n",
        "tfd = TfidfVectorizer(ngram_range=(1,3), max_features=5000)\n",
        "\n",
        "X_vector = tfd.fit_transform(X)\n",
        "\n",
        "X_vector = X_vector.toarray()\n",
        "\n",
        "X_vector.shape"
      ]
    },
    {
      "cell_type": "markdown",
      "metadata": {
        "id": "2wmXaO7RWQZD"
      },
      "source": [
        "Now we'll create a new train/test set using our new tf-idf vectors."
      ]
    },
    {
      "cell_type": "code",
      "execution_count": null,
      "metadata": {
        "id": "VZLhtbUhWNr6"
      },
      "outputs": [],
      "source": [
        "X_train_tfd, X_test_tfd, y_train_tfd, y_test_tfd = train_test_split(X_vector, y, test_size=0.20, random_state=5)\n",
        "y_train_tfd = y_train_tfd.astype(int)\n",
        "y_test_tfd = y_test_tfd.astype(int)"
      ]
    },
    {
      "cell_type": "markdown",
      "metadata": {
        "id": "ScmEdWDtWSkT"
      },
      "source": [
        "It's time to run our models!"
      ]
    },
    {
      "cell_type": "markdown",
      "metadata": {
        "id": "gGO6QazeWUrB"
      },
      "source": [
        "# SVM\n"
      ]
    },
    {
      "cell_type": "code",
      "execution_count": null,
      "metadata": {
        "id": "RXhurnwQWXHT",
        "outputId": "8b2d16fe-46aa-470d-e639-b91676d97aab"
      },
      "outputs": [
        {
          "data": {
            "text/plain": [
              "SVC(kernel='linear')"
            ]
          },
          "execution_count": 42,
          "metadata": {},
          "output_type": "execute_result"
        }
      ],
      "source": [
        "# SVM\n",
        "\n",
        "svc = SVC(kernel='linear')\n",
        "svc.fit(X_train_tfd, y_train_tfd)"
      ]
    },
    {
      "cell_type": "code",
      "execution_count": null,
      "metadata": {
        "id": "0Rsa7xqxWabB",
        "outputId": "9694ba14-96ca-4baa-a32e-e16503d18f8b"
      },
      "outputs": [
        {
          "name": "stdout",
          "output_type": "stream",
          "text": [
            "The accuracy of the SVM model is:  88.23\n",
            "              precision    recall  f1-score   support\n",
            "\n",
            "           0       0.88      0.87      0.88      4900\n",
            "           1       0.88      0.89      0.89      5100\n",
            "\n",
            "    accuracy                           0.88     10000\n",
            "   macro avg       0.88      0.88      0.88     10000\n",
            "weighted avg       0.88      0.88      0.88     10000\n",
            "\n"
          ]
        },
        {
          "data": {
            "text/plain": [
              "<AxesSubplot:>"
            ]
          },
          "execution_count": 51,
          "metadata": {},
          "output_type": "execute_result"
        },
        {
          "data": {
            "image/png": "[encoded data removed]",
            "text/plain": [
              "<Figure size 640x480 with 2 Axes>"
            ]
          },
          "metadata": {},
          "output_type": "display_data"
        }
      ],
      "source": [
        "print(\"The accuracy of the SVM model is: \", svc.score(X_test_tfd,y_test_tfd)*100)\n",
        "predictions_svc=svc.predict(X_test_tfd)\n",
        "print(classification_report(y_test_tfd,predictions_svc))\n",
        "cm=confusion_matrix(y_test_tfd,predictions_svc)\n",
        "sns.heatmap(cm,annot=True,fmt='d')"
      ]
    },
    {
      "cell_type": "markdown",
      "metadata": {
        "id": "IBN7rwldWm0q"
      },
      "source": [
        "# Logistic Regression"
      ]
    },
    {
      "cell_type": "code",
      "execution_count": null,
      "metadata": {
        "id": "oLu24BOZWoUC",
        "outputId": "6d07cc92-5298-4536-cef1-7f3fb56c839e"
      },
      "outputs": [
        {
          "data": {
            "text/plain": [
              "LogisticRegression()"
            ]
          },
          "execution_count": 44,
          "metadata": {},
          "output_type": "execute_result"
        }
      ],
      "source": [
        "# Logistic Regression\n",
        "\n",
        "lr=LogisticRegression()\n",
        "lr.fit(X_train_tfd,y_train_tfd)"
      ]
    },
    {
      "cell_type": "code",
      "execution_count": null,
      "metadata": {
        "id": "YdHA4CyyWqRi",
        "outputId": "272c3881-6ef8-4506-a261-10de649499da"
      },
      "outputs": [
        {
          "name": "stdout",
          "output_type": "stream",
          "text": [
            "The accuracy of the LR model is:  88.86\n",
            "              precision    recall  f1-score   support\n",
            "\n",
            "           0       0.89      0.88      0.89      4900\n",
            "           1       0.88      0.90      0.89      5100\n",
            "\n",
            "    accuracy                           0.89     10000\n",
            "   macro avg       0.89      0.89      0.89     10000\n",
            "weighted avg       0.89      0.89      0.89     10000\n",
            "\n"
          ]
        },
        {
          "data": {
            "text/plain": [
              "<AxesSubplot:>"
            ]
          },
          "execution_count": 45,
          "metadata": {},
          "output_type": "execute_result"
        },
        {
          "data": {
            "image/png": "[encoded data removed]",
            "text/plain": [
              "<Figure size 640x480 with 2 Axes>"
            ]
          },
          "metadata": {},
          "output_type": "display_data"
        }
      ],
      "source": [
        "print(\"The accuracy of the LR model is: \", lr.score(X_test_tfd,y_test_tfd)*100)\n",
        "predictions_lr=lr.predict(X_test_tfd)\n",
        "print(classification_report(y_test_tfd,predictions_lr))\n",
        "cm=confusion_matrix(y_test_tfd,predictions_lr)\n",
        "sns.heatmap(cm,annot=True,fmt='d')"
      ]
    },
    {
      "cell_type": "markdown",
      "metadata": {
        "id": "okbi40odWrqx"
      },
      "source": [
        "# Random Forest Classifier"
      ]
    },
    {
      "cell_type": "code",
      "execution_count": null,
      "metadata": {
        "id": "VgQCpIhpWui5",
        "outputId": "d834a29a-28ac-4237-89b2-61f678ee24ec"
      },
      "outputs": [
        {
          "data": {
            "text/plain": [
              "RandomForestClassifier()"
            ]
          },
          "execution_count": 46,
          "metadata": {},
          "output_type": "execute_result"
        }
      ],
      "source": [
        "# Random Forest\n",
        "\n",
        "rf=RandomForestClassifier(n_estimators=100)\n",
        "rf.fit(X_train_tfd,y_train_tfd)"
      ]
    },
    {
      "cell_type": "code",
      "execution_count": null,
      "metadata": {
        "id": "TFm1KILMWwax",
        "outputId": "cfcd06d5-70b5-4b40-e3ce-60e866375aa2"
      },
      "outputs": [
        {
          "name": "stdout",
          "output_type": "stream",
          "text": [
            "The accuracy of the Random Forest model is:  84.84\n",
            "              precision    recall  f1-score   support\n",
            "\n",
            "           0       0.84      0.86      0.85      4900\n",
            "           1       0.86      0.84      0.85      5100\n",
            "\n",
            "    accuracy                           0.85     10000\n",
            "   macro avg       0.85      0.85      0.85     10000\n",
            "weighted avg       0.85      0.85      0.85     10000\n",
            "\n"
          ]
        },
        {
          "data": {
            "text/plain": [
              "<AxesSubplot:>"
            ]
          },
          "execution_count": 47,
          "metadata": {},
          "output_type": "execute_result"
        },
        {
          "data": {
            "image/png": "[encoded data removed]",
            "text/plain": [
              "<Figure size 640x480 with 2 Axes>"
            ]
          },
          "metadata": {},
          "output_type": "display_data"
        }
      ],
      "source": [
        "print(\"The accuracy of the Random Forest model is: \", rf.score(X_test_tfd,y_test_tfd)*100)\n",
        "predictions_rf=rf.predict(X_test_tfd)\n",
        "print(classification_report(y_test_tfd,predictions_rf))\n",
        "cm=confusion_matrix(y_test_tfd,predictions_rf)\n",
        "sns.heatmap(cm,annot=True,fmt='d')"
      ]
    },
    {
      "cell_type": "markdown",
      "metadata": {
        "id": "gii_XlCmWyhh"
      },
      "source": [
        "Let's compare the accuracies of our 3 models."
      ]
    },
    {
      "cell_type": "code",
      "execution_count": null,
      "metadata": {
        "id": "CzmoP0bgWzDp",
        "outputId": "0c6d5578-9b53-46e4-c4c9-1d7a3fb3f2aa"
      },
      "outputs": [
        {
          "name": "stdout",
          "output_type": "stream",
          "text": [
            "SVM: 0.8823\n",
            "RF: 0.8484\n",
            "LR: 0.8886\n"
          ]
        }
      ],
      "source": [
        "print(\"SVM: \" + str(svc.score(X_test_tfd, y_test_tfd)))\n",
        "print(\"RF: \" + str(rf.score(X_test_tfd, y_test_tfd)))\n",
        "print(\"LR: \" + str(lr.score(X_test_tfd, y_test_tfd)))"
      ]
    },
    {
      "cell_type": "markdown",
      "metadata": {
        "id": "ZseJisN5W3lK"
      },
      "source": [
        "And, let's add in our accuracy from our LSTM..."
      ]
    },
    {
      "cell_type": "code",
      "execution_count": null,
      "metadata": {
        "id": "OCxxxsygW2kB",
        "outputId": "553c91df-e59d-4b8b-b49e-8b8ef2305c5c"
      },
      "outputs": [
        {
          "name": "stdout",
          "output_type": "stream",
          "text": [
            "313/313 [==============================] - 1s 2ms/step - loss: 0.3366 - accuracy: 0.8581\n",
            "LSTM: 0.8580999970436096\n"
          ]
        }
      ],
      "source": [
        "loss, accuracy = model.evaluate(X_test_vector_tensor, y_test_tensor)\n",
        "\n",
        "print(\"LSTM: \" + str(accuracy))"
      ]
    },
    {
      "cell_type": "markdown",
      "metadata": {
        "id": "eFVuVafrkj7J"
      },
      "source": [
        "# Analysis of results"
      ]
    },
    {
      "cell_type": "markdown",
      "metadata": {
        "id": "joNdQkcNkj7J"
      },
      "source": [
        "## LSTM"
      ]
    },
    {
      "cell_type": "markdown",
      "source": [
        "\n",
        "We found that the highest accuracy of the validation set is acheved with smaller amounts of epochs. Once we go past 2 or 3 the accuracy starts to plane out and won't achieve any higher accuracy. The higher the epochs the lower the accuracy and the higher the loss.\n",
        "\n",
        "We tried to fix this by modifying multiple factors of the keras LSTM model. \n",
        "\n",
        "First we decreased the learning rate of the \"adam\" optimizer to 0.0001 and found some marginal increases in the accuracy and decreases in the loss.\n",
        "\n",
        "We then tried to add a dropout to our model of .2, this did make our graphs look better but would also remove a lot of the data.\n",
        "\n",
        "After that we tried to change the density and amount of layers both with varying results but none of them really gave us any better data than what we already had. Same with changing the activation of the layers.\n",
        "\n",
        "Callouts also just removed data and didnt really improve our results much.\n",
        "\n",
        "In the end, we decided that highest accuracy of our LSTM model on the validation set was most important. We weren't able to see clear overfitting with the number of epochs we iterated through. It is possible that, with higher epoch iterations, we could see this -- however, this is a job for when we have more time and higher computing power."
      ],
      "metadata": {
        "id": "HW4YLQo51Il5"
      }
    },
    {
      "cell_type": "markdown",
      "metadata": {
        "id": "EJHT2x23fNa0"
      },
      "source": [
        "## Simple Classifiers"
      ]
    },
    {
      "cell_type": "markdown",
      "source": [
        "\n",
        "After utilizing the TF-IDF tokenization approach, we saw overall high accuracies across our SVM, LR, and RF models. TF-IDF is a powerful tokenization tool for machine learning models.\n",
        "\n",
        "Of our three models, we found that our logistic regression model performed the best. It also had the highest time efficiency."
      ],
      "metadata": {
        "id": "79Vlc9zF1OYf"
      }
    },
    {
      "cell_type": "markdown",
      "metadata": {
        "id": "vu88K0_0esJs"
      },
      "source": [
        "\n",
        "Logistic regression seems like a decidedly good choice for this kind of sentiment analysis as it is meant for classification problems with labels that are discrete 1/0 values. It uses the sigmoid function to find the relationship between variables and map numbers to values between, but never exactly, 0 and 1.\n",
        "\n",
        "(As it turns out, the LSTM also uses a sigmoid layer in its processing.)\n",
        "\n",
        "In the future -- and with more time and computing power -- we could do a grid search with our logistic regression model to further tune our classifier and find the best parameters for the highest accuracy."
      ]
    },
    {
      "cell_type": "markdown",
      "metadata": {
        "id": "PhV1XQqLetY1"
      },
      "source": [
        "# Summary"
      ]
    },
    {
      "cell_type": "markdown",
      "metadata": {
        "id": "AoahkVFteoM0"
      },
      "source": [
        "Overall, we found the highest accuracy in prediction of IMDB reviews in our logistic regression model, although all of our models performed similarly with accuracies in the mid 80% for each.\n",
        "\n",
        "One point of surprise for us is the differences in accuracies between our simple classification models and our LSTM neural network.\n",
        "\n",
        "We expected that LSTM would yield a higher accuracy as a deep learning application. We did a lot of fine tuning to our hyperparameters but weren't able to consistently get an accuracy higher than that of our linear regression model. \n",
        "\n",
        "This may be a sign that more complex doesn't always mean better. Logistic regression seems to be the best fit for this sentiment analysis problem despite its simplicity. In the future, we would love to test our models on more datasets to see the variations on how these models perform."
      ]
    }
  ],
  "metadata": {
    "colab": {
      "provenance": [],
      "include_colab_link": true
    },
    "kernelspec": {
      "display_name": "Python 3.9.13 ('base')",
      "language": "python",
      "name": "python3"
    },
    "language_info": {
      "codemirror_mode": {
        "name": "ipython",
        "version": 3
      },
      "file_extension": ".py",
      "mimetype": "text/x-python",
      "name": "python",
      "nbconvert_exporter": "python",
      "pygments_lexer": "ipython3",
      "version": "3.9.15"
    },
    "vscode": {
      "interpreter": {
        "hash": "171477609014cceea94aef133bb7309ada38ad52d4bc39cf4203d15bf533d055"
      }
    }
  },
  "nbformat": 4,
  "nbformat_minor": 0
}